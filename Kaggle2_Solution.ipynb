{
  "nbformat": 4,
  "nbformat_minor": 0,
  "metadata": {
    "colab": {
      "name": "Kaggle2_Solution.ipynb",
      "provenance": [],
      "collapsed_sections": [
        "2RrfQMPCEWlg"
      ]
    },
    "kernelspec": {
      "name": "python3",
      "display_name": "Python 3"
    },
    "language_info": {
      "name": "python"
    },
    "accelerator": "GPU"
  },
  "cells": [
    {
      "cell_type": "code",
      "metadata": {
        "colab": {
          "base_uri": "https://localhost:8080/"
        },
        "id": "PoUgBZHW47ES",
        "outputId": "fb08c932-93a7-4099-c894-4f1b1235fbe3"
      },
      "source": [
        "from google.colab import drive\n",
        "drive.mount('/content/gdrive/')"
      ],
      "execution_count": 1,
      "outputs": [
        {
          "output_type": "stream",
          "name": "stdout",
          "text": [
            "Mounted at /content/gdrive/\n"
          ]
        }
      ]
    },
    {
      "cell_type": "code",
      "metadata": {
        "colab": {
          "base_uri": "https://localhost:8080/"
        },
        "id": "FF5fuxxI6K1g",
        "outputId": "ec8a1f43-4f17-4faa-c921-2b17a875590c"
      },
      "source": [
        "!pwd"
      ],
      "execution_count": 2,
      "outputs": [
        {
          "output_type": "stream",
          "name": "stdout",
          "text": [
            "/content\n"
          ]
        }
      ]
    },
    {
      "cell_type": "code",
      "metadata": {
        "colab": {
          "base_uri": "https://localhost:8080/"
        },
        "id": "2hVEXaj_6nJl",
        "outputId": "e4d0c45d-a529-4ed7-df21-a083d543030a"
      },
      "source": [
        "!ls \"/content/gdrive/MyDrive/Kaggle2\""
      ],
      "execution_count": 3,
      "outputs": [
        {
          "output_type": "stream",
          "name": "stdout",
          "text": [
            "test_nolabels.csv  train.csv\n"
          ]
        }
      ]
    },
    {
      "cell_type": "code",
      "source": [
        "import pandas as pd\n",
        "import numpy as np\n",
        "import matplotlib.pyplot as plt\n",
        "import seaborn as sns\n",
        "\n",
        "from sklearn.model_selection import train_test_split\n",
        "\n",
        "from sklearn.neighbors import KNeighborsClassifier\n",
        "#from catboost import Pool, CatBoostClassifier\n",
        "from sklearn.model_selection import KFold\n",
        "from sklearn.ensemble import RandomForestClassifier\n",
        "# from sklearn.metrics import f1_score,confusion_matrix\n",
        "from sklearn.metrics import accuracy_score,classification_report,roc_auc_score, f1_score\n",
        "# from sklearn.neighbors import KNeighborsClassifier\n",
        "from sklearn.linear_model import LogisticRegression"
      ],
      "metadata": {
        "id": "7MwqpvHMlrI0"
      },
      "execution_count": 4,
      "outputs": []
    },
    {
      "cell_type": "code",
      "metadata": {
        "id": "4ubJwe0G6uCV"
      },
      "source": [
        "train_df = pd.read_csv(\"/content/gdrive/MyDrive/Kaggle2/train.csv\",index_col=0)\n",
        "test_df = pd.read_csv('/content/gdrive/MyDrive/Kaggle2/test_nolabels.csv', index_col = 'S.No')"
      ],
      "execution_count": 5,
      "outputs": []
    },
    {
      "cell_type": "code",
      "source": [
        "print(train_df.shape)\n",
        "print(test_df.shape)"
      ],
      "metadata": {
        "colab": {
          "base_uri": "https://localhost:8080/"
        },
        "id": "_tQPqYMfFfZD",
        "outputId": "7377fc47-15f0-4444-a289-269a329db814"
      },
      "execution_count": 6,
      "outputs": [
        {
          "output_type": "stream",
          "name": "stdout",
          "text": [
            "(62000, 217)\n",
            "(1200, 216)\n"
          ]
        }
      ]
    },
    {
      "cell_type": "code",
      "metadata": {
        "colab": {
          "base_uri": "https://localhost:8080/",
          "height": 387
        },
        "id": "9bouyzpr7OKM",
        "outputId": "4878328b-199d-472f-b09a-85288c0d6a56"
      },
      "source": [
        "fig, ax=plt.subplots(1,2,figsize=(15,6))\n",
        "_ = sns.countplot(x='LABELS', data=train_df, ax=ax[0])\n",
        "_ = train_df['LABELS'].value_counts().plot.pie(ax=ax[1])"
      ],
      "execution_count": 7,
      "outputs": [
        {
          "output_type": "display_data",
          "data": {
            "image/png": "[encoded data removed]",
            "text/plain": [
              "<Figure size 1080x432 with 2 Axes>"
            ]
          },
          "metadata": {
            "needs_background": "light"
          }
        }
      ]
    },
    {
      "cell_type": "code",
      "source": [
        "train_df.describe().T"
      ],
      "metadata": {
        "colab": {
          "base_uri": "https://localhost:8080/",
          "height": 423
        },
        "id": "lGGPA2F-A051",
        "outputId": "f96cdbf9-7590-4d69-a9bd-7a4be9c72d9a"
      },
      "execution_count": 9,
      "outputs": [
        {
          "output_type": "execute_result",
          "data": {
            "text/html": [
              "<div>\n",
              "<style scoped>\n",
              "    .dataframe tbody tr th:only-of-type {\n",
              "        vertical-align: middle;\n",
              "    }\n",
              "\n",
              "    .dataframe tbody tr th {\n",
              "        vertical-align: top;\n",
              "    }\n",
              "\n",
              "    .dataframe thead th {\n",
              "        text-align: right;\n",
              "    }\n",
              "</style>\n",
              "<table border=\"1\" class=\"dataframe\">\n",
              "  <thead>\n",
              "    <tr style=\"text-align: right;\">\n",
              "      <th></th>\n",
              "      <th>count</th>\n",
              "      <th>mean</th>\n",
              "      <th>std</th>\n",
              "      <th>min</th>\n",
              "      <th>25%</th>\n",
              "      <th>50%</th>\n",
              "      <th>75%</th>\n",
              "      <th>max</th>\n",
              "    </tr>\n",
              "  </thead>\n",
              "  <tbody>\n",
              "    <tr>\n",
              "      <th>S2_B2_jan</th>\n",
              "      <td>62000.0</td>\n",
              "      <td>-11.724671</td>\n",
              "      <td>4.241818</td>\n",
              "      <td>-57.171004</td>\n",
              "      <td>-13.857931</td>\n",
              "      <td>-11.442431</td>\n",
              "      <td>-9.245148</td>\n",
              "      <td>14.057914</td>\n",
              "    </tr>\n",
              "    <tr>\n",
              "      <th>S2_B3_jan</th>\n",
              "      <td>62000.0</td>\n",
              "      <td>-17.971911</td>\n",
              "      <td>4.724715</td>\n",
              "      <td>-74.840663</td>\n",
              "      <td>-20.492101</td>\n",
              "      <td>-17.516489</td>\n",
              "      <td>-14.824632</td>\n",
              "      <td>7.074079</td>\n",
              "    </tr>\n",
              "    <tr>\n",
              "      <th>S2_B4_jan</th>\n",
              "      <td>62000.0</td>\n",
              "      <td>2036.387745</td>\n",
              "      <td>1911.414225</td>\n",
              "      <td>-56.392936</td>\n",
              "      <td>937.234240</td>\n",
              "      <td>1142.971343</td>\n",
              "      <td>1962.460051</td>\n",
              "      <td>13624.663133</td>\n",
              "    </tr>\n",
              "    <tr>\n",
              "      <th>S2_B5_jan</th>\n",
              "      <td>62000.0</td>\n",
              "      <td>2055.863785</td>\n",
              "      <td>1910.020462</td>\n",
              "      <td>299.238220</td>\n",
              "      <td>936.750310</td>\n",
              "      <td>1185.170514</td>\n",
              "      <td>2061.126093</td>\n",
              "      <td>14274.620618</td>\n",
              "    </tr>\n",
              "    <tr>\n",
              "      <th>S2_B6_jan</th>\n",
              "      <td>62000.0</td>\n",
              "      <td>2249.486666</td>\n",
              "      <td>2064.795406</td>\n",
              "      <td>308.116962</td>\n",
              "      <td>956.722972</td>\n",
              "      <td>1399.391762</td>\n",
              "      <td>2461.075116</td>\n",
              "      <td>15724.538745</td>\n",
              "    </tr>\n",
              "    <tr>\n",
              "      <th>...</th>\n",
              "      <td>...</td>\n",
              "      <td>...</td>\n",
              "      <td>...</td>\n",
              "      <td>...</td>\n",
              "      <td>...</td>\n",
              "      <td>...</td>\n",
              "      <td>...</td>\n",
              "      <td>...</td>\n",
              "    </tr>\n",
              "    <tr>\n",
              "      <th>ERA5_total_precipitation_dec</th>\n",
              "      <td>62000.0</td>\n",
              "      <td>0.003248</td>\n",
              "      <td>0.003646</td>\n",
              "      <td>0.000091</td>\n",
              "      <td>0.001020</td>\n",
              "      <td>0.001846</td>\n",
              "      <td>0.003916</td>\n",
              "      <td>0.045823</td>\n",
              "    </tr>\n",
              "    <tr>\n",
              "      <th>topo_elevation_dec</th>\n",
              "      <td>62000.0</td>\n",
              "      <td>540.429021</td>\n",
              "      <td>610.147342</td>\n",
              "      <td>-119.033169</td>\n",
              "      <td>129.433855</td>\n",
              "      <td>305.315006</td>\n",
              "      <td>792.012585</td>\n",
              "      <td>5376.089584</td>\n",
              "    </tr>\n",
              "    <tr>\n",
              "      <th>topo_slope_dec</th>\n",
              "      <td>62000.0</td>\n",
              "      <td>4.970936</td>\n",
              "      <td>6.697951</td>\n",
              "      <td>-0.163469</td>\n",
              "      <td>1.324655</td>\n",
              "      <td>2.572516</td>\n",
              "      <td>5.339283</td>\n",
              "      <td>73.877508</td>\n",
              "    </tr>\n",
              "    <tr>\n",
              "      <th>NDVI_dec</th>\n",
              "      <td>62000.0</td>\n",
              "      <td>0.266457</td>\n",
              "      <td>0.199619</td>\n",
              "      <td>-0.643869</td>\n",
              "      <td>0.102681</td>\n",
              "      <td>0.249438</td>\n",
              "      <td>0.417680</td>\n",
              "      <td>0.796425</td>\n",
              "    </tr>\n",
              "    <tr>\n",
              "      <th>LABELS</th>\n",
              "      <td>62000.0</td>\n",
              "      <td>0.664790</td>\n",
              "      <td>0.472068</td>\n",
              "      <td>0.000000</td>\n",
              "      <td>0.000000</td>\n",
              "      <td>1.000000</td>\n",
              "      <td>1.000000</td>\n",
              "      <td>1.000000</td>\n",
              "    </tr>\n",
              "  </tbody>\n",
              "</table>\n",
              "<p>217 rows × 8 columns</p>\n",
              "</div>"
            ],
            "text/plain": [
              "                                count         mean  ...          75%           max\n",
              "S2_B2_jan                     62000.0   -11.724671  ...    -9.245148     14.057914\n",
              "S2_B3_jan                     62000.0   -17.971911  ...   -14.824632      7.074079\n",
              "S2_B4_jan                     62000.0  2036.387745  ...  1962.460051  13624.663133\n",
              "S2_B5_jan                     62000.0  2055.863785  ...  2061.126093  14274.620618\n",
              "S2_B6_jan                     62000.0  2249.486666  ...  2461.075116  15724.538745\n",
              "...                               ...          ...  ...          ...           ...\n",
              "ERA5_total_precipitation_dec  62000.0     0.003248  ...     0.003916      0.045823\n",
              "topo_elevation_dec            62000.0   540.429021  ...   792.012585   5376.089584\n",
              "topo_slope_dec                62000.0     4.970936  ...     5.339283     73.877508\n",
              "NDVI_dec                      62000.0     0.266457  ...     0.417680      0.796425\n",
              "LABELS                        62000.0     0.664790  ...     1.000000      1.000000\n",
              "\n",
              "[217 rows x 8 columns]"
            ]
          },
          "metadata": {},
          "execution_count": 9
        }
      ]
    },
    {
      "cell_type": "code",
      "source": [
        "#checking if there is any null values present\n",
        "print(train_df.isnull().sum())"
      ],
      "metadata": {
        "colab": {
          "base_uri": "https://localhost:8080/"
        },
        "id": "tj5f_FkdA08o",
        "outputId": "46b583a8-7804-4a41-e194-499883662c3f"
      },
      "execution_count": 10,
      "outputs": [
        {
          "output_type": "stream",
          "name": "stdout",
          "text": [
            "S2_B2_jan                       0\n",
            "S2_B3_jan                       0\n",
            "S2_B4_jan                       0\n",
            "S2_B5_jan                       0\n",
            "S2_B6_jan                       0\n",
            "                               ..\n",
            "ERA5_total_precipitation_dec    0\n",
            "topo_elevation_dec              0\n",
            "topo_slope_dec                  0\n",
            "NDVI_dec                        0\n",
            "LABELS                          0\n",
            "Length: 217, dtype: int64\n"
          ]
        }
      ]
    },
    {
      "cell_type": "code",
      "metadata": {
        "colab": {
          "base_uri": "https://localhost:8080/"
        },
        "id": "lvAOkURi7vq-",
        "outputId": "0137d13f-de74-4258-aac6-8b775fbe7eae"
      },
      "source": [
        "#splitting the train dataset\n",
        "X = train_df.iloc[:, :-1]\n",
        "Y = train_df.iloc[:, -1]\n",
        "x_train, x_test, y_train, y_test = train_test_split(X, Y, test_size=0.33, random_state=42)\n",
        "\n",
        "print(X.shape)\n",
        "print(Y.shape)"
      ],
      "execution_count": 8,
      "outputs": [
        {
          "output_type": "stream",
          "name": "stdout",
          "text": [
            "(62000, 216)\n",
            "(62000,)\n"
          ]
        }
      ]
    },
    {
      "cell_type": "code",
      "source": [
        "#KNN\n",
        "knn_classifier = KNeighborsClassifier()\n",
        "knn_classifier.fit(x_train, y_train)\n",
        "knn_predictions = knn_classifier.predict(x_test)\n",
        "knn_predictions_train = knn_classifier.predict(x_train)\n",
        "knn_predictions_test = knn_classifier.predict(test_df)\n",
        "\n",
        "print(\"The accuracy of train set is : \", accuracy_score(y_train,knn_predictions_train))\n",
        "print(\"\\n\")\n",
        "print(\"The accuracy of test set is : \", accuracy_score(y_test,knn_predictions))\n",
        "print(\"\\n\")\n",
        "print(\"The classification report is as follows:\\n\", classification_report(y_test,knn_predictions))"
      ],
      "metadata": {
        "colab": {
          "base_uri": "https://localhost:8080/"
        },
        "id": "gxrUO8TAA0N0",
        "outputId": "cff9b2e0-6a15-49bc-807f-59f64e2edd57"
      },
      "execution_count": 15,
      "outputs": [
        {
          "output_type": "stream",
          "name": "stdout",
          "text": [
            "The accuracy of train set is :  0.8487000481463649\n",
            "\n",
            "\n",
            "The accuracy of test set is :  0.7735092864125123\n",
            "\n",
            "\n",
            "The classification report is as follows:\n",
            "               precision    recall  f1-score   support\n",
            "\n",
            "         0.0       0.66      0.66      0.66      6855\n",
            "         1.0       0.83      0.83      0.83     13605\n",
            "\n",
            "    accuracy                           0.77     20460\n",
            "   macro avg       0.75      0.74      0.75     20460\n",
            "weighted avg       0.77      0.77      0.77     20460\n",
            "\n"
          ]
        }
      ]
    },
    {
      "cell_type": "code",
      "source": [
        "print(\"The F1 Score is as follows:\\n\", f1_score(y_test, knn_predictions, labels=None, pos_label=1, average='weighted'))"
      ],
      "metadata": {
        "colab": {
          "base_uri": "https://localhost:8080/"
        },
        "id": "v78f0UHvDSRi",
        "outputId": "c790e03b-e211-4662-b744-5119cc130d3b"
      },
      "execution_count": 21,
      "outputs": [
        {
          "output_type": "stream",
          "name": "stdout",
          "text": [
            "The F1 Score is as follows:\n",
            " 0.7732187008195665\n"
          ]
        }
      ]
    },
    {
      "cell_type": "code",
      "source": [
        "#Logistic Regression using scikit Learn\n",
        "logreg_classifier = LogisticRegression(random_state=42,solver='liblinear')\n",
        "logreg_classifier.fit(x_train, y_train)\n",
        "\n",
        "logreg_predictions = logreg_classifier.predict(x_test)\n",
        "# logreg_predictions_test = logreg_classifier.predict(test_df)\n",
        "\n",
        "logreg_predictions_train = logreg_classifier.predict(x_train)\n",
        "\n",
        "print(\"The accuracy of train set is : \", accuracy_score(y_train,logreg_predictions_train))\n",
        "print(\"\\n\")\n",
        "print(\"The accuracy of test is : \", accuracy_score(y_test,logreg_predictions))\n",
        "print(\"\\n\")\n",
        "print(\"The classification report is as follows:\\n\", classification_report(y_test,logreg_predictions))\n",
        "print(\"\\n\")\n",
        "print(\"The F1 Score is as follows:\\n\", f1_score(y_test, logreg_predictions, labels=None, pos_label=1, average='weighted'))\n",
        "\n",
        "\n",
        "# Saving .csv \n",
        "# submission = pd.DataFrame({'S.No': test_df.index,'LABELS':logreg_predictions_test.astype(int)})\n",
        "# #print(submission.LABELS)\n",
        "\n",
        "\n",
        "# filename = 'Submission_Abhay_LogReg.csv'\n",
        "\n",
        "# submission.to_csv(filename,index=False)\n",
        "\n",
        "# print('Saved file: ' + filename)"
      ],
      "metadata": {
        "colab": {
          "base_uri": "https://localhost:8080/"
        },
        "id": "yGQhncZqA0Xa",
        "outputId": "4f812cef-090d-44db-fc3f-3604e0f243b8"
      },
      "execution_count": 18,
      "outputs": [
        {
          "output_type": "stream",
          "name": "stdout",
          "text": [
            "The accuracy of train set is :  0.7474482426576794\n",
            "\n",
            "\n",
            "The accuracy of test is :  0.7417399804496578\n",
            "\n",
            "\n",
            "The classification report is as follows:\n",
            "               precision    recall  f1-score   support\n",
            "\n",
            "         0.0       0.65      0.50      0.56      6855\n",
            "         1.0       0.77      0.86      0.82     13605\n",
            "\n",
            "    accuracy                           0.74     20460\n",
            "   macro avg       0.71      0.68      0.69     20460\n",
            "weighted avg       0.73      0.74      0.73     20460\n",
            "\n"
          ]
        },
        {
          "output_type": "stream",
          "name": "stderr",
          "text": [
            "/usr/local/lib/python3.7/dist-packages/sklearn/svm/_base.py:1208: ConvergenceWarning: Liblinear failed to converge, increase the number of iterations.\n",
            "  ConvergenceWarning,\n"
          ]
        }
      ]
    },
    {
      "cell_type": "code",
      "source": [
        "print(\"The F1 Score is as follows:\\n\", f1_score(y_test, logreg_predictions, labels=None, pos_label=1, average='weighted'))"
      ],
      "metadata": {
        "colab": {
          "base_uri": "https://localhost:8080/"
        },
        "id": "xXAkhVfkDOOf",
        "outputId": "b5b039c2-36cd-459f-b7fe-a274a4f1e3a0"
      },
      "execution_count": 20,
      "outputs": [
        {
          "output_type": "stream",
          "name": "stdout",
          "text": [
            "The F1 Score is as follows:\n",
            " 0.7319911638993587\n"
          ]
        }
      ]
    },
    {
      "cell_type": "code",
      "source": [
        "# Random Forest with no hyperparameter tuning\n",
        "\n",
        "rf_classifier = RandomForestClassifier(random_state=42)      \n",
        "rf_classifier = rf_classifier.fit(x_train,y_train)\n",
        "\n",
        "rf_predictions = rf_classifier.predict(x_test)\n",
        "rf_predictions_test = rf_classifier.predict(test_df)\n",
        "\n",
        "rf_predictions_train = rf_classifier.predict(x_train)\n",
        "\n",
        "print(\"The accuracy of train set is : \", accuracy_score(y_train,rf_predictions_train))\n",
        "print(\"\\n\")\n",
        "print(\"The accuracy of test is : \", accuracy_score(y_test,rf_predictions))\n",
        "print(\"\\n\")\n",
        "print(\"The classification report is as follows:\\n\", classification_report(y_test,rf_predictions))\n",
        "print(\"The F1 Score is as follows:\\n\", f1_score(y_test, rf_predictions, labels=None, pos_label=1, average='weighted'))"
      ],
      "metadata": {
        "colab": {
          "base_uri": "https://localhost:8080/"
        },
        "id": "vE7Q64GSDZty",
        "outputId": "9e4b64e6-74a3-4bdb-d7a6-c7748e03977f"
      },
      "execution_count": 24,
      "outputs": [
        {
          "output_type": "stream",
          "name": "stdout",
          "text": [
            "The accuracy of train set is :  0.9931150698122292\n",
            "\n",
            "\n",
            "The accuracy of test is :  0.8421798631476051\n",
            "\n",
            "\n",
            "The classification report is as follows:\n",
            "               precision    recall  f1-score   support\n",
            "\n",
            "         0.0       0.79      0.72      0.75      6855\n",
            "         1.0       0.86      0.91      0.88     13605\n",
            "\n",
            "    accuracy                           0.84     20460\n",
            "   macro avg       0.83      0.81      0.82     20460\n",
            "weighted avg       0.84      0.84      0.84     20460\n",
            "\n",
            "The F1 Score is as follows:\n",
            " 0.8399965385063092\n"
          ]
        }
      ]
    },
    {
      "cell_type": "code",
      "source": [
        "from sklearn.metrics import roc_curve\n",
        "\n",
        "fpr, tpr, thresholds = roc_curve(y_test, rf_classifier.predict_proba(x_test)[:, 1])\n",
        "# plot the roc curve for the model\n",
        "plt.plot([0,1], [0,1], linestyle='--', label='No Skill')\n",
        "plt.plot(fpr, tpr, marker='.', label='Model')\n",
        "# axis labels\n",
        "plt.xlabel('False Positive Rate')\n",
        "plt.ylabel('True Positive Rate')\n",
        "plt.legend()\n",
        "# show the plot\n",
        "plt.show()\n",
        "\n",
        "gmeans = np.sqrt(tpr * (1-fpr))\n",
        "ix = np.argmax(gmeans)\n",
        "print('Best Threshold=%f, G-Mean=%.3f' % (thresholds[ix], gmeans[ix]))"
      ],
      "metadata": {
        "colab": {
          "base_uri": "https://localhost:8080/",
          "height": 297
        },
        "id": "974YOTHkDZw5",
        "outputId": "6f76991b-3380-4471-98cd-aec4b7a70adb"
      },
      "execution_count": 25,
      "outputs": [
        {
          "output_type": "display_data",
          "data": {
            "image/png": "[encoded data removed]",
            "text/plain": [
              "<Figure size 432x288 with 1 Axes>"
            ]
          },
          "metadata": {
            "needs_background": "light"
          }
        },
        {
          "output_type": "stream",
          "name": "stdout",
          "text": [
            "Best Threshold=0.620833, G-Mean=0.837\n"
          ]
        }
      ]
    },
    {
      "cell_type": "code",
      "source": [
        "#Hyper Parameter tuning of Random Forest using Grid search\n",
        "\n",
        "# Number of trees in random forest\n",
        "n_estimators = [int(x) for x in np.linspace(start = 10, stop = 800, num = 10)]\n",
        "#print(n_estimators)\n",
        "# Number of features to consider at every split\n",
        "max_features = ['auto', 'sqrt']\n",
        "# Maximum number of levels in tree\n",
        "max_depth = [2, 4, 8, 12]\n",
        "# Minimum number of samples required to split a node\n",
        "min_samples_split = [2, 5, 8]\n",
        "# Minimum number of samples required at each leaf node\n",
        "min_samples_leaf = [1, 2]\n",
        "# selecting samples for training each tree\n",
        "bootstrap = [True, False]\n",
        "\n",
        "# Create the param grid\n",
        "param_grid = {'n_estimators': n_estimators,\n",
        "               'max_features': max_features,\n",
        "               'max_depth': max_depth,\n",
        "               'min_samples_split': min_samples_split,\n",
        "               'min_samples_leaf': min_samples_leaf,\n",
        "               'bootstrap': bootstrap}\n",
        "print(param_grid)"
      ],
      "metadata": {
        "colab": {
          "base_uri": "https://localhost:8080/"
        },
        "id": "obwaqdeTDZ0C",
        "outputId": "91e474d1-4829-4366-a12b-48c8357cc24b"
      },
      "execution_count": 27,
      "outputs": [
        {
          "output_type": "stream",
          "name": "stdout",
          "text": [
            "{'n_estimators': [10, 97, 185, 273, 361, 448, 536, 624, 712, 800], 'max_features': ['auto', 'sqrt'], 'max_depth': [2, 4, 8, 12], 'min_samples_split': [2, 5, 8], 'min_samples_leaf': [1, 2], 'bootstrap': [True, False]}\n"
          ]
        }
      ]
    },
    {
      "cell_type": "code",
      "source": [
        "# rf_Model = RandomForestClassifier()\n",
        "# from sklearn.model_selection import RandomizedSearchCV\n",
        "# rf_RandomGrid = RandomizedSearchCV(estimator = rf_Model, param_distributions = param_grid, cv = 5, verbose=2, n_jobs = -1)\n",
        "# rf_RandomGrid.fit(x_train, y_train)\n",
        "\n",
        "# rf_RandomGrid.best_params_"
      ],
      "metadata": {
        "id": "6dnF4KkeDZ2q"
      },
      "execution_count": null,
      "outputs": []
    },
    {
      "cell_type": "code",
      "source": [
        "param_grid_tuned = {'bootstrap': False,\n",
        " 'max_depth': 20,\n",
        " 'max_features': 'sqrt',\n",
        " 'min_samples_leaf': 1,\n",
        " 'min_samples_split': 5,\n",
        " 'n_estimators': 536}\n",
        "\n",
        "rf_Model = RandomForestClassifier(**param_grid_tuned).fit(x_train, y_train)\n",
        "\n",
        "rf_predictions = rf_Model.predict(x_test)\n",
        "rf_predictions_test = rf_Model.predict(test_df)\n",
        "\n",
        "rf_predictions_train = rf_Model.predict(x_train)\n",
        "\n",
        "print(\"The accuracy of train set is : \", accuracy_score(y_train,rf_predictions_train))\n",
        "print(\"\\n\")\n",
        "print(\"The accuracy of test is : \", accuracy_score(y_test,rf_predictions))\n",
        "print(\"\\n\")\n",
        "print(\"The classification report is as follows:\\n\", classification_report(y_test,rf_predictions))\n",
        "print(\"The F1 Score is as follows:\\n\", f1_score(y_test, rf_predictions, labels=None, pos_label=1, average='weighted'))"
      ],
      "metadata": {
        "colab": {
          "base_uri": "https://localhost:8080/"
        },
        "id": "BCaJ7iNFDZ5A",
        "outputId": "24abe39c-fa55-4c46-e454-2246ac4240dc"
      },
      "execution_count": 28,
      "outputs": [
        {
          "output_type": "stream",
          "name": "stdout",
          "text": [
            "The accuracy of train set is :  0.9902503610977371\n",
            "\n",
            "\n",
            "The accuracy of test is :  0.8470674486803519\n",
            "\n",
            "\n",
            "The classification report is as follows:\n",
            "               precision    recall  f1-score   support\n",
            "\n",
            "         0.0       0.81      0.71      0.76      6855\n",
            "         1.0       0.86      0.91      0.89     13605\n",
            "\n",
            "    accuracy                           0.85     20460\n",
            "   macro avg       0.84      0.81      0.82     20460\n",
            "weighted avg       0.84      0.85      0.84     20460\n",
            "\n",
            "The F1 Score is as follows:\n",
            " 0.8445311738080634\n"
          ]
        }
      ]
    },
    {
      "cell_type": "code",
      "source": [
        "!pip install optuna"
      ],
      "metadata": {
        "colab": {
          "base_uri": "https://localhost:8080/"
        },
        "id": "4wJczBiwDZ8G",
        "outputId": "b15eec1a-d5b0-4c77-bc0c-4a735a26b214"
      },
      "execution_count": 29,
      "outputs": [
        {
          "output_type": "stream",
          "name": "stdout",
          "text": [
            "Collecting optuna\n",
            "  Downloading optuna-2.10.0-py3-none-any.whl (308 kB)\n",
            "\u001b[?25l\r\u001b[K     |█                               | 10 kB 16.7 MB/s eta 0:00:01\r\u001b[K     |██▏                             | 20 kB 21.1 MB/s eta 0:00:01\r\u001b[K     |███▏                            | 30 kB 14.5 MB/s eta 0:00:01\r\u001b[K     |████▎                           | 40 kB 10.8 MB/s eta 0:00:01\r\u001b[K     |█████▎                          | 51 kB 5.8 MB/s eta 0:00:01\r\u001b[K     |██████▍                         | 61 kB 6.4 MB/s eta 0:00:01\r\u001b[K     |███████▍                        | 71 kB 6.0 MB/s eta 0:00:01\r\u001b[K     |████████▌                       | 81 kB 6.7 MB/s eta 0:00:01\r\u001b[K     |█████████▋                      | 92 kB 5.1 MB/s eta 0:00:01\r\u001b[K     |██████████▋                     | 102 kB 5.4 MB/s eta 0:00:01\r\u001b[K     |███████████▊                    | 112 kB 5.4 MB/s eta 0:00:01\r\u001b[K     |████████████▊                   | 122 kB 5.4 MB/s eta 0:00:01\r\u001b[K     |█████████████▉                  | 133 kB 5.4 MB/s eta 0:00:01\r\u001b[K     |██████████████▉                 | 143 kB 5.4 MB/s eta 0:00:01\r\u001b[K     |████████████████                | 153 kB 5.4 MB/s eta 0:00:01\r\u001b[K     |█████████████████               | 163 kB 5.4 MB/s eta 0:00:01\r\u001b[K     |██████████████████              | 174 kB 5.4 MB/s eta 0:00:01\r\u001b[K     |███████████████████▏            | 184 kB 5.4 MB/s eta 0:00:01\r\u001b[K     |████████████████████▏           | 194 kB 5.4 MB/s eta 0:00:01\r\u001b[K     |█████████████████████▎          | 204 kB 5.4 MB/s eta 0:00:01\r\u001b[K     |██████████████████████▎         | 215 kB 5.4 MB/s eta 0:00:01\r\u001b[K     |███████████████████████▍        | 225 kB 5.4 MB/s eta 0:00:01\r\u001b[K     |████████████████████████▌       | 235 kB 5.4 MB/s eta 0:00:01\r\u001b[K     |█████████████████████████▌      | 245 kB 5.4 MB/s eta 0:00:01\r\u001b[K     |██████████████████████████▋     | 256 kB 5.4 MB/s eta 0:00:01\r\u001b[K     |███████████████████████████▋    | 266 kB 5.4 MB/s eta 0:00:01\r\u001b[K     |████████████████████████████▊   | 276 kB 5.4 MB/s eta 0:00:01\r\u001b[K     |█████████████████████████████▊  | 286 kB 5.4 MB/s eta 0:00:01\r\u001b[K     |██████████████████████████████▉ | 296 kB 5.4 MB/s eta 0:00:01\r\u001b[K     |████████████████████████████████| 307 kB 5.4 MB/s eta 0:00:01\r\u001b[K     |████████████████████████████████| 308 kB 5.4 MB/s \n",
            "\u001b[?25hCollecting colorlog\n",
            "  Downloading colorlog-6.6.0-py2.py3-none-any.whl (11 kB)\n",
            "Requirement already satisfied: PyYAML in /usr/local/lib/python3.7/dist-packages (from optuna) (3.13)\n",
            "Requirement already satisfied: sqlalchemy>=1.1.0 in /usr/local/lib/python3.7/dist-packages (from optuna) (1.4.27)\n",
            "Collecting cmaes>=0.8.2\n",
            "  Downloading cmaes-0.8.2-py3-none-any.whl (15 kB)\n",
            "Requirement already satisfied: tqdm in /usr/local/lib/python3.7/dist-packages (from optuna) (4.62.3)\n",
            "Requirement already satisfied: numpy in /usr/local/lib/python3.7/dist-packages (from optuna) (1.19.5)\n",
            "Collecting alembic\n",
            "  Downloading alembic-1.7.5-py3-none-any.whl (209 kB)\n",
            "\u001b[K     |████████████████████████████████| 209 kB 44.7 MB/s \n",
            "\u001b[?25hRequirement already satisfied: scipy!=1.4.0 in /usr/local/lib/python3.7/dist-packages (from optuna) (1.4.1)\n",
            "Collecting cliff\n",
            "  Downloading cliff-3.10.0-py3-none-any.whl (80 kB)\n",
            "\u001b[K     |████████████████████████████████| 80 kB 8.2 MB/s \n",
            "\u001b[?25hRequirement already satisfied: packaging>=20.0 in /usr/local/lib/python3.7/dist-packages (from optuna) (21.3)\n",
            "Requirement already satisfied: pyparsing!=3.0.5,>=2.0.2 in /usr/local/lib/python3.7/dist-packages (from packaging>=20.0->optuna) (3.0.6)\n",
            "Requirement already satisfied: greenlet!=0.4.17 in /usr/local/lib/python3.7/dist-packages (from sqlalchemy>=1.1.0->optuna) (1.1.2)\n",
            "Requirement already satisfied: importlib-metadata in /usr/local/lib/python3.7/dist-packages (from sqlalchemy>=1.1.0->optuna) (4.8.2)\n",
            "Requirement already satisfied: importlib-resources in /usr/local/lib/python3.7/dist-packages (from alembic->optuna) (5.4.0)\n",
            "Collecting Mako\n",
            "  Downloading Mako-1.1.6-py2.py3-none-any.whl (75 kB)\n",
            "\u001b[K     |████████████████████████████████| 75 kB 4.0 MB/s \n",
            "\u001b[?25hCollecting stevedore>=2.0.1\n",
            "  Downloading stevedore-3.5.0-py3-none-any.whl (49 kB)\n",
            "\u001b[K     |████████████████████████████████| 49 kB 4.6 MB/s \n",
            "\u001b[?25hCollecting autopage>=0.4.0\n",
            "  Downloading autopage-0.4.0-py3-none-any.whl (20 kB)\n",
            "Requirement already satisfied: PrettyTable>=0.7.2 in /usr/local/lib/python3.7/dist-packages (from cliff->optuna) (2.4.0)\n",
            "Collecting cmd2>=1.0.0\n",
            "  Downloading cmd2-2.3.3-py3-none-any.whl (149 kB)\n",
            "\u001b[K     |████████████████████████████████| 149 kB 49.8 MB/s \n",
            "\u001b[?25hCollecting pbr!=2.1.0,>=2.0.0\n",
            "  Downloading pbr-5.8.0-py2.py3-none-any.whl (112 kB)\n",
            "\u001b[K     |████████████████████████████████| 112 kB 51.3 MB/s \n",
            "\u001b[?25hRequirement already satisfied: typing-extensions in /usr/local/lib/python3.7/dist-packages (from cmd2>=1.0.0->cliff->optuna) (3.10.0.2)\n",
            "Requirement already satisfied: attrs>=16.3.0 in /usr/local/lib/python3.7/dist-packages (from cmd2>=1.0.0->cliff->optuna) (21.2.0)\n",
            "Requirement already satisfied: wcwidth>=0.1.7 in /usr/local/lib/python3.7/dist-packages (from cmd2>=1.0.0->cliff->optuna) (0.2.5)\n",
            "Collecting pyperclip>=1.6\n",
            "  Downloading pyperclip-1.8.2.tar.gz (20 kB)\n",
            "Requirement already satisfied: zipp>=0.5 in /usr/local/lib/python3.7/dist-packages (from importlib-metadata->sqlalchemy>=1.1.0->optuna) (3.6.0)\n",
            "Requirement already satisfied: MarkupSafe>=0.9.2 in /usr/local/lib/python3.7/dist-packages (from Mako->alembic->optuna) (2.0.1)\n",
            "Building wheels for collected packages: pyperclip\n",
            "  Building wheel for pyperclip (setup.py) ... \u001b[?25l\u001b[?25hdone\n",
            "  Created wheel for pyperclip: filename=pyperclip-1.8.2-py3-none-any.whl size=11136 sha256=eb1e26eaa15a3b4c0cfe4a5e7e040d86fbd004f6564b6edd5895c17ed45a3f11\n",
            "  Stored in directory: /root/.cache/pip/wheels/9f/18/84/8f69f8b08169c7bae2dde6bd7daf0c19fca8c8e500ee620a28\n",
            "Successfully built pyperclip\n",
            "Installing collected packages: pyperclip, pbr, stevedore, Mako, cmd2, autopage, colorlog, cmaes, cliff, alembic, optuna\n",
            "Successfully installed Mako-1.1.6 alembic-1.7.5 autopage-0.4.0 cliff-3.10.0 cmaes-0.8.2 cmd2-2.3.3 colorlog-6.6.0 optuna-2.10.0 pbr-5.8.0 pyperclip-1.8.2 stevedore-3.5.0\n"
          ]
        }
      ]
    },
    {
      "cell_type": "code",
      "source": [
        "import optuna\n",
        "from sklearn.model_selection import cross_val_score \n",
        "def objective(trial):\n",
        "    bootstrap = trial.suggest_categorical('bootstrap',['True','False'])\n",
        "    max_depth = int(trial.suggest_discrete_uniform('max_depth', 10, 1000,10))\n",
        "    max_leaf_nodes = int(trial.suggest_discrete_uniform('max_leaf_nodes', 10, 1000,10))\n",
        "    n_estimators =  int(trial.suggest_discrete_uniform('n_estimators', 10, 1000,10))\n",
        "    min_samples_split = trial.suggest_int(\"min_samples_split\", 2, 5)\n",
        "    min_samples_leaf = trial.suggest_int(\"min_samples_leaf\", 1, 5)\n",
        " \n",
        "    \n",
        "    clf = RandomForestClassifier(bootstrap = bootstrap,\n",
        "                                 max_depth = max_depth,\n",
        "                                 max_leaf_nodes = max_leaf_nodes,\n",
        "                                 n_estimators = n_estimators,\n",
        "                                 n_jobs=-1,\n",
        "                                 min_samples_leaf=min_samples_leaf,\n",
        "                                 min_samples_split=min_samples_split)\n",
        " \n",
        "    score = cross_val_score(clf, X, Y, cv=5, scoring=\"f1\")\n",
        " \n",
        "    return score.mean()\n",
        "#Learn with optuna\n",
        "study = optuna.create_study(direction='maximize')\n",
        "study.optimize(objective, n_trials=200)\n",
        "\n",
        "trial = study.best_trial\n",
        "\n",
        "print('Precision: {}'.format(trial.value))\n",
        "print(\"Best hyperparameters: {}\".format(trial.params))"
      ],
      "metadata": {
        "id": "CKrRiW18ILCH"
      },
      "execution_count": 48,
      "outputs": []
    },
    {
      "cell_type": "code",
      "source": [
        "#Reference - https://www.kaggle.com/corochann/optuna-tutorial-for-hyperparameter-optimization\n",
        "\n",
        "#Optimization history\n",
        "#It is a best score's history, blue dot is the score of this trial and orange line show the best score.\n",
        "#Note that blue dot is not in the all trial, because we turned on pruning thus many of the trials are stopped before getting final objective value.\n",
        "\n",
        "# optuna.visualization.plot_optimization_history(study)\n",
        "# optuna.visualization.plot_parallel_coordinate(study)"
      ],
      "metadata": {
        "id": "vIpBVJ4KILFL"
      },
      "execution_count": 49,
      "outputs": []
    },
    {
      "cell_type": "code",
      "source": [
        "from sklearn.ensemble import ExtraTreesClassifier   \n",
        "\n",
        "et_clf = ExtraTreesClassifier()\n",
        "et_clf.fit(x_train, y_train)\n",
        "#et_clf.fit(X, Y)\n",
        "y_pred_et = et_clf.predict(x_test)\n",
        "# y_pred_test = xgb_clf.predict(test_df)\n",
        "x_pred = et_clf.predict(x_train)\n",
        "\n",
        "print(\"The accuracy of train set is : \", accuracy_score(y_train,x_pred))\n",
        "print(\"\\n\")\n",
        "print(\"The accuracy of test is : \", accuracy_score(y_test,y_pred_et))\n",
        "print(\"\\n\")\n",
        "print(\"The classification report is as follows:\\n\", classification_report(y_test,y_pred_et))\n",
        "print(\"The F1 Score is as follows:\\n\", f1_score(y_test, y_pred_et, labels=None, pos_label=1, average='weighted'))"
      ],
      "metadata": {
        "colab": {
          "base_uri": "https://localhost:8080/"
        },
        "id": "dqfGKZXTILHK",
        "outputId": "d122ceec-2061-49d8-84b4-de65bd7ce0ed"
      },
      "execution_count": 34,
      "outputs": [
        {
          "output_type": "stream",
          "name": "stdout",
          "text": [
            "The accuracy of train set is :  0.9931150698122292\n",
            "\n",
            "\n",
            "The accuracy of test is :  0.8403714565004887\n",
            "\n",
            "\n",
            "The classification report is as follows:\n",
            "               precision    recall  f1-score   support\n",
            "\n",
            "         0.0       0.80      0.70      0.75      6855\n",
            "         1.0       0.86      0.91      0.88     13605\n",
            "\n",
            "    accuracy                           0.84     20460\n",
            "   macro avg       0.83      0.81      0.82     20460\n",
            "weighted avg       0.84      0.84      0.84     20460\n",
            "\n",
            "The F1 Score is as follows:\n",
            " 0.8376747441082503\n"
          ]
        }
      ]
    },
    {
      "cell_type": "code",
      "source": [
        "#Attempt 2 \n",
        "from sklearn.model_selection import cross_validate\n",
        "import optuna \n",
        "\n",
        "def objective(trial):\n",
        "\n",
        "        random_state = 42\n",
        "        n_jobs = -1\n",
        "        max_depth = trial.suggest_int(\"max_depth\", 80, 120)\n",
        "        n_estimators = trial.suggest_int(\"n_estimators\", 80, 120)\n",
        "        min_samples_split = trial.suggest_int(\"min_samples_split\", 2, 9)\n",
        "        min_samples_leaf = trial.suggest_int(\"min_samples_leaf\", 1, 5)\n",
        "    \n",
        "\n",
        "        classifier_obj = ExtraTreesClassifier( random_state      = random_state,\n",
        "                                                  n_jobs            = n_jobs,\n",
        "                                                  max_depth         = max_depth,\n",
        "                                                  n_estimators      = n_estimators,\n",
        "                                                  min_samples_split = min_samples_split,\n",
        "                                                  min_samples_leaf  = min_samples_leaf\n",
        "                                                  ) \n",
        "\n",
        "  \n",
        "        result = cross_validate(classifier_obj, X, y=Y, cv=5, scoring='f1')\n",
        "    \n",
        "        return result['test_score'].mean()\n",
        "\n",
        "\n",
        "study = optuna.create_study(direction='maximize')\n",
        "study.optimize(objective, n_trials = 100)\n",
        "\n",
        "trial = study.best_trial\n",
        "\n",
        "print('Precision: {}'.format(trial.value))\n",
        "print(\"Best hyperparameters: {}\".format(trial.params))"
      ],
      "metadata": {
        "colab": {
          "base_uri": "https://localhost:8080/"
        },
        "id": "vJNIpvQCILIs",
        "outputId": "3d9e416e-a70f-4b62-cdeb-e1d38edd670f"
      },
      "execution_count": 35,
      "outputs": [
        {
          "output_type": "stream",
          "name": "stderr",
          "text": [
            "\u001b[32m[I 2021-12-17 02:19:34,391]\u001b[0m A new study created in memory with name: no-name-f7b118a1-2bbc-45cb-adc6-41ecd7e1b4e3\u001b[0m\n",
            "\u001b[32m[I 2021-12-17 02:20:29,061]\u001b[0m Trial 0 finished with value: 0.8809450288726269 and parameters: {'max_depth': 119, 'n_estimators': 82, 'min_samples_split': 6, 'min_samples_leaf': 4}. Best is trial 0 with value: 0.8809450288726269.\u001b[0m\n",
            "\u001b[32m[I 2021-12-17 02:21:47,233]\u001b[0m Trial 1 finished with value: 0.8829269776573339 and parameters: {'max_depth': 107, 'n_estimators': 116, 'min_samples_split': 2, 'min_samples_leaf': 3}. Best is trial 1 with value: 0.8829269776573339.\u001b[0m\n",
            "\u001b[32m[I 2021-12-17 02:23:10,737]\u001b[0m Trial 2 finished with value: 0.8834686074449041 and parameters: {'max_depth': 81, 'n_estimators': 112, 'min_samples_split': 4, 'min_samples_leaf': 1}. Best is trial 2 with value: 0.8834686074449041.\u001b[0m\n",
            "\u001b[32m[I 2021-12-17 02:24:20,111]\u001b[0m Trial 3 finished with value: 0.8832915098995902 and parameters: {'max_depth': 87, 'n_estimators': 103, 'min_samples_split': 9, 'min_samples_leaf': 1}. Best is trial 2 with value: 0.8834686074449041.\u001b[0m\n",
            "\u001b[32m[I 2021-12-17 02:25:24,768]\u001b[0m Trial 4 finished with value: 0.8825629420063633 and parameters: {'max_depth': 113, 'n_estimators': 93, 'min_samples_split': 9, 'min_samples_leaf': 1}. Best is trial 2 with value: 0.8834686074449041.\u001b[0m\n",
            "\u001b[32m[I 2021-12-17 02:26:27,422]\u001b[0m Trial 5 finished with value: 0.8821206216907163 and parameters: {'max_depth': 107, 'n_estimators': 94, 'min_samples_split': 2, 'min_samples_leaf': 3}. Best is trial 2 with value: 0.8834686074449041.\u001b[0m\n",
            "\u001b[32m[I 2021-12-17 02:27:24,135]\u001b[0m Trial 6 finished with value: 0.8803284624370585 and parameters: {'max_depth': 93, 'n_estimators': 90, 'min_samples_split': 9, 'min_samples_leaf': 4}. Best is trial 2 with value: 0.8834686074449041.\u001b[0m\n",
            "\u001b[32m[I 2021-12-17 02:28:38,494]\u001b[0m Trial 7 finished with value: 0.8825596354412728 and parameters: {'max_depth': 94, 'n_estimators': 109, 'min_samples_split': 3, 'min_samples_leaf': 3}. Best is trial 2 with value: 0.8834686074449041.\u001b[0m\n",
            "\u001b[32m[I 2021-12-17 02:29:46,159]\u001b[0m Trial 8 finished with value: 0.8815469377523012 and parameters: {'max_depth': 99, 'n_estimators': 100, 'min_samples_split': 7, 'min_samples_leaf': 3}. Best is trial 2 with value: 0.8834686074449041.\u001b[0m\n",
            "\u001b[32m[I 2021-12-17 02:31:00,007]\u001b[0m Trial 9 finished with value: 0.8828330020600097 and parameters: {'max_depth': 84, 'n_estimators': 111, 'min_samples_split': 7, 'min_samples_leaf': 2}. Best is trial 2 with value: 0.8834686074449041.\u001b[0m\n",
            "\u001b[32m[I 2021-12-17 02:32:15,634]\u001b[0m Trial 10 finished with value: 0.8807778799922004 and parameters: {'max_depth': 83, 'n_estimators': 120, 'min_samples_split': 4, 'min_samples_leaf': 5}. Best is trial 2 with value: 0.8834686074449041.\u001b[0m\n",
            "\u001b[32m[I 2021-12-17 02:33:30,581]\u001b[0m Trial 11 finished with value: 0.8836540546061842 and parameters: {'max_depth': 82, 'n_estimators': 105, 'min_samples_split': 5, 'min_samples_leaf': 1}. Best is trial 11 with value: 0.8836540546061842.\u001b[0m\n",
            "\u001b[32m[I 2021-12-17 02:34:48,559]\u001b[0m Trial 12 finished with value: 0.8836540546061842 and parameters: {'max_depth': 80, 'n_estimators': 105, 'min_samples_split': 5, 'min_samples_leaf': 1}. Best is trial 11 with value: 0.8836540546061842.\u001b[0m\n",
            "\u001b[32m[I 2021-12-17 02:35:59,977]\u001b[0m Trial 13 finished with value: 0.8832055424143352 and parameters: {'max_depth': 90, 'n_estimators': 103, 'min_samples_split': 5, 'min_samples_leaf': 2}. Best is trial 11 with value: 0.8836540546061842.\u001b[0m\n",
            "\u001b[32m[I 2021-12-17 02:37:14,879]\u001b[0m Trial 14 finished with value: 0.883457067353155 and parameters: {'max_depth': 80, 'n_estimators': 106, 'min_samples_split': 5, 'min_samples_leaf': 2}. Best is trial 11 with value: 0.8836540546061842.\u001b[0m\n",
            "\u001b[32m[I 2021-12-17 02:38:25,600]\u001b[0m Trial 15 finished with value: 0.883863246570221 and parameters: {'max_depth': 98, 'n_estimators': 98, 'min_samples_split': 6, 'min_samples_leaf': 1}. Best is trial 15 with value: 0.883863246570221.\u001b[0m\n",
            "\u001b[32m[I 2021-12-17 02:39:33,421]\u001b[0m Trial 16 finished with value: 0.8827222010441682 and parameters: {'max_depth': 100, 'n_estimators': 98, 'min_samples_split': 7, 'min_samples_leaf': 2}. Best is trial 15 with value: 0.883863246570221.\u001b[0m\n",
            "\u001b[32m[I 2021-12-17 02:40:34,038]\u001b[0m Trial 17 finished with value: 0.8836622269616514 and parameters: {'max_depth': 106, 'n_estimators': 86, 'min_samples_split': 6, 'min_samples_leaf': 1}. Best is trial 15 with value: 0.883863246570221.\u001b[0m\n",
            "\u001b[32m[I 2021-12-17 02:41:29,201]\u001b[0m Trial 18 finished with value: 0.882172579165681 and parameters: {'max_depth': 103, 'n_estimators': 80, 'min_samples_split': 8, 'min_samples_leaf': 2}. Best is trial 15 with value: 0.883863246570221.\u001b[0m\n",
            "\u001b[32m[I 2021-12-17 02:42:30,798]\u001b[0m Trial 19 finished with value: 0.8835678350208388 and parameters: {'max_depth': 109, 'n_estimators': 87, 'min_samples_split': 6, 'min_samples_leaf': 1}. Best is trial 15 with value: 0.883863246570221.\u001b[0m\n",
            "\u001b[32m[I 2021-12-17 02:43:26,217]\u001b[0m Trial 20 finished with value: 0.880873333073367 and parameters: {'max_depth': 96, 'n_estimators': 85, 'min_samples_split': 8, 'min_samples_leaf': 4}. Best is trial 15 with value: 0.883863246570221.\u001b[0m\n",
            "\u001b[32m[I 2021-12-17 02:44:37,596]\u001b[0m Trial 21 finished with value: 0.883863246570221 and parameters: {'max_depth': 116, 'n_estimators': 98, 'min_samples_split': 6, 'min_samples_leaf': 1}. Best is trial 15 with value: 0.883863246570221.\u001b[0m\n",
            "\u001b[32m[I 2021-12-17 02:45:48,173]\u001b[0m Trial 22 finished with value: 0.8838429661284245 and parameters: {'max_depth': 119, 'n_estimators': 96, 'min_samples_split': 6, 'min_samples_leaf': 1}. Best is trial 15 with value: 0.883863246570221.\u001b[0m\n",
            "\u001b[32m[I 2021-12-17 02:46:54,422]\u001b[0m Trial 23 finished with value: 0.8829218727944573 and parameters: {'max_depth': 120, 'n_estimators': 97, 'min_samples_split': 7, 'min_samples_leaf': 2}. Best is trial 15 with value: 0.883863246570221.\u001b[0m\n",
            "\u001b[32m[I 2021-12-17 02:48:04,604]\u001b[0m Trial 24 finished with value: 0.8836821763621623 and parameters: {'max_depth': 114, 'n_estimators': 95, 'min_samples_split': 6, 'min_samples_leaf': 1}. Best is trial 15 with value: 0.883863246570221.\u001b[0m\n",
            "\u001b[32m[I 2021-12-17 02:49:08,885]\u001b[0m Trial 25 finished with value: 0.8823670928841354 and parameters: {'max_depth': 116, 'n_estimators': 90, 'min_samples_split': 4, 'min_samples_leaf': 2}. Best is trial 15 with value: 0.883863246570221.\u001b[0m\n",
            "\u001b[32m[I 2021-12-17 02:50:22,758]\u001b[0m Trial 26 finished with value: 0.8823610281195393 and parameters: {'max_depth': 111, 'n_estimators': 100, 'min_samples_split': 8, 'min_samples_leaf': 1}. Best is trial 15 with value: 0.883863246570221.\u001b[0m\n",
            "\u001b[32m[I 2021-12-17 02:51:22,995]\u001b[0m Trial 27 finished with value: 0.8801510924202904 and parameters: {'max_depth': 117, 'n_estimators': 91, 'min_samples_split': 6, 'min_samples_leaf': 5}. Best is trial 15 with value: 0.883863246570221.\u001b[0m\n",
            "\u001b[32m[I 2021-12-17 02:52:32,190]\u001b[0m Trial 28 finished with value: 0.8828644264052301 and parameters: {'max_depth': 104, 'n_estimators': 99, 'min_samples_split': 7, 'min_samples_leaf': 2}. Best is trial 15 with value: 0.883863246570221.\u001b[0m\n",
            "\u001b[32m[I 2021-12-17 02:53:46,947]\u001b[0m Trial 29 finished with value: 0.8834720526753521 and parameters: {'max_depth': 120, 'n_estimators': 102, 'min_samples_split': 5, 'min_samples_leaf': 1}. Best is trial 15 with value: 0.883863246570221.\u001b[0m\n",
            "\u001b[32m[I 2021-12-17 02:54:55,402]\u001b[0m Trial 30 finished with value: 0.8827056474818568 and parameters: {'max_depth': 117, 'n_estimators': 96, 'min_samples_split': 4, 'min_samples_leaf': 1}. Best is trial 15 with value: 0.883863246570221.\u001b[0m\n",
            "\u001b[32m[I 2021-12-17 02:56:00,892]\u001b[0m Trial 31 finished with value: 0.8836821763621623 and parameters: {'max_depth': 114, 'n_estimators': 95, 'min_samples_split': 6, 'min_samples_leaf': 1}. Best is trial 15 with value: 0.883863246570221.\u001b[0m\n",
            "\u001b[32m[I 2021-12-17 02:57:07,044]\u001b[0m Trial 32 finished with value: 0.8838241400085838 and parameters: {'max_depth': 111, 'n_estimators': 92, 'min_samples_split': 6, 'min_samples_leaf': 1}. Best is trial 15 with value: 0.883863246570221.\u001b[0m\n",
            "\u001b[32m[I 2021-12-17 02:58:13,659]\u001b[0m Trial 33 finished with value: 0.8838241400085838 and parameters: {'max_depth': 117, 'n_estimators': 92, 'min_samples_split': 6, 'min_samples_leaf': 1}. Best is trial 15 with value: 0.883863246570221.\u001b[0m\n",
            "\u001b[32m[I 2021-12-17 02:59:12,877]\u001b[0m Trial 34 finished with value: 0.8826524795297234 and parameters: {'max_depth': 118, 'n_estimators': 87, 'min_samples_split': 7, 'min_samples_leaf': 2}. Best is trial 15 with value: 0.883863246570221.\u001b[0m\n",
            "\u001b[32m[I 2021-12-17 03:00:23,646]\u001b[0m Trial 35 finished with value: 0.883863246570221 and parameters: {'max_depth': 97, 'n_estimators': 98, 'min_samples_split': 6, 'min_samples_leaf': 1}. Best is trial 15 with value: 0.883863246570221.\u001b[0m\n",
            "\u001b[32m[I 2021-12-17 03:01:37,805]\u001b[0m Trial 36 finished with value: 0.8833518926757383 and parameters: {'max_depth': 98, 'n_estimators': 101, 'min_samples_split': 5, 'min_samples_leaf': 1}. Best is trial 15 with value: 0.883863246570221.\u001b[0m\n",
            "\u001b[32m[I 2021-12-17 03:03:00,461]\u001b[0m Trial 37 finished with value: 0.8838024742113699 and parameters: {'max_depth': 102, 'n_estimators': 107, 'min_samples_split': 3, 'min_samples_leaf': 1}. Best is trial 15 with value: 0.883863246570221.\u001b[0m\n",
            "\u001b[32m[I 2021-12-17 03:04:06,142]\u001b[0m Trial 38 finished with value: 0.8825875217774491 and parameters: {'max_depth': 91, 'n_estimators': 97, 'min_samples_split': 8, 'min_samples_leaf': 2}. Best is trial 15 with value: 0.883863246570221.\u001b[0m\n",
            "\u001b[32m[I 2021-12-17 03:05:20,334]\u001b[0m Trial 39 finished with value: 0.8839980057806074 and parameters: {'max_depth': 94, 'n_estimators': 103, 'min_samples_split': 6, 'min_samples_leaf': 1}. Best is trial 39 with value: 0.8839980057806074.\u001b[0m\n",
            "\u001b[32m[I 2021-12-17 03:06:32,507]\u001b[0m Trial 40 finished with value: 0.8819112553879227 and parameters: {'max_depth': 96, 'n_estimators': 109, 'min_samples_split': 7, 'min_samples_leaf': 3}. Best is trial 39 with value: 0.8839980057806074.\u001b[0m\n",
            "\u001b[32m[I 2021-12-17 03:07:43,697]\u001b[0m Trial 41 finished with value: 0.8840697501969343 and parameters: {'max_depth': 88, 'n_estimators': 99, 'min_samples_split': 6, 'min_samples_leaf': 1}. Best is trial 41 with value: 0.8840697501969343.\u001b[0m\n",
            "\u001b[32m[I 2021-12-17 03:08:58,554]\u001b[0m Trial 42 finished with value: 0.8838306328473118 and parameters: {'max_depth': 86, 'n_estimators': 102, 'min_samples_split': 6, 'min_samples_leaf': 1}. Best is trial 41 with value: 0.8840697501969343.\u001b[0m\n",
            "\u001b[32m[I 2021-12-17 03:10:11,096]\u001b[0m Trial 43 finished with value: 0.8832840673719817 and parameters: {'max_depth': 89, 'n_estimators': 99, 'min_samples_split': 5, 'min_samples_leaf': 1}. Best is trial 41 with value: 0.8840697501969343.\u001b[0m\n",
            "\u001b[32m[I 2021-12-17 03:11:19,463]\u001b[0m Trial 44 finished with value: 0.8821900140652014 and parameters: {'max_depth': 93, 'n_estimators': 94, 'min_samples_split': 7, 'min_samples_leaf': 1}. Best is trial 41 with value: 0.8840697501969343.\u001b[0m\n",
            "\u001b[32m[I 2021-12-17 03:12:30,164]\u001b[0m Trial 45 finished with value: 0.8813863595047776 and parameters: {'max_depth': 96, 'n_estimators': 105, 'min_samples_split': 6, 'min_samples_leaf': 4}. Best is trial 41 with value: 0.8840697501969343.\u001b[0m\n",
            "\u001b[32m[I 2021-12-17 03:13:55,666]\u001b[0m Trial 46 finished with value: 0.8832064722921974 and parameters: {'max_depth': 88, 'n_estimators': 116, 'min_samples_split': 5, 'min_samples_leaf': 2}. Best is trial 41 with value: 0.8840697501969343.\u001b[0m\n",
            "\u001b[32m[I 2021-12-17 03:15:14,957]\u001b[0m Trial 47 finished with value: 0.8831440800754937 and parameters: {'max_depth': 91, 'n_estimators': 104, 'min_samples_split': 4, 'min_samples_leaf': 1}. Best is trial 41 with value: 0.8840697501969343.\u001b[0m\n",
            "\u001b[32m[I 2021-12-17 03:16:22,231]\u001b[0m Trial 48 finished with value: 0.8815469377523012 and parameters: {'max_depth': 85, 'n_estimators': 100, 'min_samples_split': 7, 'min_samples_leaf': 3}. Best is trial 41 with value: 0.8840697501969343.\u001b[0m\n",
            "\u001b[32m[I 2021-12-17 03:17:40,928]\u001b[0m Trial 49 finished with value: 0.8831532776031757 and parameters: {'max_depth': 100, 'n_estimators': 108, 'min_samples_split': 5, 'min_samples_leaf': 2}. Best is trial 41 with value: 0.8840697501969343.\u001b[0m\n",
            "\u001b[32m[I 2021-12-17 03:19:04,409]\u001b[0m Trial 50 finished with value: 0.8839801849960518 and parameters: {'max_depth': 98, 'n_estimators': 113, 'min_samples_split': 6, 'min_samples_leaf': 1}. Best is trial 41 with value: 0.8840697501969343.\u001b[0m\n",
            "\u001b[32m[I 2021-12-17 03:20:31,066]\u001b[0m Trial 51 finished with value: 0.8838963634148522 and parameters: {'max_depth': 98, 'n_estimators': 116, 'min_samples_split': 6, 'min_samples_leaf': 1}. Best is trial 41 with value: 0.8840697501969343.\u001b[0m\n",
            "\u001b[32m[I 2021-12-17 03:21:58,627]\u001b[0m Trial 52 finished with value: 0.8839271788736696 and parameters: {'max_depth': 94, 'n_estimators': 115, 'min_samples_split': 6, 'min_samples_leaf': 1}. Best is trial 41 with value: 0.8840697501969343.\u001b[0m\n",
            "\u001b[32m[I 2021-12-17 03:23:25,185]\u001b[0m Trial 53 finished with value: 0.8825085362260545 and parameters: {'max_depth': 93, 'n_estimators': 115, 'min_samples_split': 7, 'min_samples_leaf': 1}. Best is trial 41 with value: 0.8840697501969343.\u001b[0m\n",
            "\u001b[32m[I 2021-12-17 03:24:52,930]\u001b[0m Trial 54 finished with value: 0.8837444577809783 and parameters: {'max_depth': 94, 'n_estimators': 113, 'min_samples_split': 5, 'min_samples_leaf': 1}. Best is trial 41 with value: 0.8840697501969343.\u001b[0m\n",
            "\u001b[32m[I 2021-12-17 03:26:16,889]\u001b[0m Trial 55 finished with value: 0.8840858164472116 and parameters: {'max_depth': 95, 'n_estimators': 112, 'min_samples_split': 6, 'min_samples_leaf': 1}. Best is trial 55 with value: 0.8840858164472116.\u001b[0m\n",
            "\u001b[32m[I 2021-12-17 03:27:47,122]\u001b[0m Trial 56 finished with value: 0.8837503749628695 and parameters: {'max_depth': 100, 'n_estimators': 119, 'min_samples_split': 6, 'min_samples_leaf': 1}. Best is trial 55 with value: 0.8840858164472116.\u001b[0m\n",
            "\u001b[32m[I 2021-12-17 03:29:10,247]\u001b[0m Trial 57 finished with value: 0.8824544520679233 and parameters: {'max_depth': 95, 'n_estimators': 111, 'min_samples_split': 7, 'min_samples_leaf': 1}. Best is trial 55 with value: 0.8840858164472116.\u001b[0m\n",
            "\u001b[32m[I 2021-12-17 03:30:35,339]\u001b[0m Trial 58 finished with value: 0.8829614917838443 and parameters: {'max_depth': 92, 'n_estimators': 118, 'min_samples_split': 6, 'min_samples_leaf': 2}. Best is trial 55 with value: 0.8840858164472116.\u001b[0m\n",
            "\u001b[32m[I 2021-12-17 03:32:03,134]\u001b[0m Trial 59 finished with value: 0.883889312253257 and parameters: {'max_depth': 98, 'n_estimators': 114, 'min_samples_split': 5, 'min_samples_leaf': 1}. Best is trial 55 with value: 0.8840858164472116.\u001b[0m\n",
            "\u001b[32m[I 2021-12-17 03:33:37,737]\u001b[0m Trial 60 finished with value: 0.8838101717414671 and parameters: {'max_depth': 101, 'n_estimators': 117, 'min_samples_split': 3, 'min_samples_leaf': 1}. Best is trial 55 with value: 0.8840858164472116.\u001b[0m\n",
            "\u001b[32m[I 2021-12-17 03:35:04,867]\u001b[0m Trial 61 finished with value: 0.883912793843143 and parameters: {'max_depth': 98, 'n_estimators': 114, 'min_samples_split': 5, 'min_samples_leaf': 1}. Best is trial 55 with value: 0.8840858164472116.\u001b[0m\n",
            "\u001b[32m[I 2021-12-17 03:36:30,040]\u001b[0m Trial 62 finished with value: 0.8840858164472116 and parameters: {'max_depth': 95, 'n_estimators': 112, 'min_samples_split': 6, 'min_samples_leaf': 1}. Best is trial 55 with value: 0.8840858164472116.\u001b[0m\n",
            "\u001b[32m[I 2021-12-17 03:37:55,587]\u001b[0m Trial 63 finished with value: 0.883859391431522 and parameters: {'max_depth': 94, 'n_estimators': 112, 'min_samples_split': 5, 'min_samples_leaf': 1}. Best is trial 55 with value: 0.8840858164472116.\u001b[0m\n",
            "\u001b[32m[I 2021-12-17 03:39:18,867]\u001b[0m Trial 64 finished with value: 0.8837424662950806 and parameters: {'max_depth': 89, 'n_estimators': 110, 'min_samples_split': 5, 'min_samples_leaf': 1}. Best is trial 55 with value: 0.8840858164472116.\u001b[0m\n",
            "\u001b[32m[I 2021-12-17 03:40:44,914]\u001b[0m Trial 65 finished with value: 0.8839090211599423 and parameters: {'max_depth': 104, 'n_estimators': 114, 'min_samples_split': 6, 'min_samples_leaf': 1}. Best is trial 55 with value: 0.8840858164472116.\u001b[0m\n",
            "\u001b[32m[I 2021-12-17 03:42:07,855]\u001b[0m Trial 66 finished with value: 0.883048052053575 and parameters: {'max_depth': 95, 'n_estimators': 112, 'min_samples_split': 4, 'min_samples_leaf': 2}. Best is trial 55 with value: 0.8840858164472116.\u001b[0m\n",
            "\u001b[32m[I 2021-12-17 03:43:29,769]\u001b[0m Trial 67 finished with value: 0.8827855939688295 and parameters: {'max_depth': 91, 'n_estimators': 110, 'min_samples_split': 7, 'min_samples_leaf': 1}. Best is trial 55 with value: 0.8840858164472116.\u001b[0m\n",
            "\u001b[32m[I 2021-12-17 03:44:42,083]\u001b[0m Trial 68 finished with value: 0.8805501322843631 and parameters: {'max_depth': 87, 'n_estimators': 114, 'min_samples_split': 6, 'min_samples_leaf': 5}. Best is trial 55 with value: 0.8840858164472116.\u001b[0m\n",
            "\u001b[32m[I 2021-12-17 03:46:12,463]\u001b[0m Trial 69 finished with value: 0.8834867088220765 and parameters: {'max_depth': 97, 'n_estimators': 120, 'min_samples_split': 5, 'min_samples_leaf': 1}. Best is trial 55 with value: 0.8840858164472116.\u001b[0m\n",
            "\u001b[32m[I 2021-12-17 03:47:39,126]\u001b[0m Trial 70 finished with value: 0.8829614917838443 and parameters: {'max_depth': 82, 'n_estimators': 118, 'min_samples_split': 6, 'min_samples_leaf': 2}. Best is trial 55 with value: 0.8840858164472116.\u001b[0m\n",
            "\u001b[32m[I 2021-12-17 03:49:04,594]\u001b[0m Trial 71 finished with value: 0.8839090211599423 and parameters: {'max_depth': 105, 'n_estimators': 114, 'min_samples_split': 6, 'min_samples_leaf': 1}. Best is trial 55 with value: 0.8840858164472116.\u001b[0m\n",
            "\u001b[32m[I 2021-12-17 03:50:29,880]\u001b[0m Trial 72 finished with value: 0.8840858164472116 and parameters: {'max_depth': 106, 'n_estimators': 112, 'min_samples_split': 6, 'min_samples_leaf': 1}. Best is trial 55 with value: 0.8840858164472116.\u001b[0m\n",
            "\u001b[32m[I 2021-12-17 03:51:54,437]\u001b[0m Trial 73 finished with value: 0.8840625621925445 and parameters: {'max_depth': 102, 'n_estimators': 111, 'min_samples_split': 6, 'min_samples_leaf': 1}. Best is trial 55 with value: 0.8840858164472116.\u001b[0m\n",
            "\u001b[32m[I 2021-12-17 03:53:15,299]\u001b[0m Trial 74 finished with value: 0.8839124646399561 and parameters: {'max_depth': 108, 'n_estimators': 107, 'min_samples_split': 6, 'min_samples_leaf': 1}. Best is trial 55 with value: 0.8840858164472116.\u001b[0m\n",
            "\u001b[32m[I 2021-12-17 03:54:38,113]\u001b[0m Trial 75 finished with value: 0.8839065830671865 and parameters: {'max_depth': 102, 'n_estimators': 110, 'min_samples_split': 6, 'min_samples_leaf': 1}. Best is trial 55 with value: 0.8840858164472116.\u001b[0m\n",
            "\u001b[32m[I 2021-12-17 03:56:01,253]\u001b[0m Trial 76 finished with value: 0.8825821239388831 and parameters: {'max_depth': 106, 'n_estimators': 112, 'min_samples_split': 7, 'min_samples_leaf': 1}. Best is trial 55 with value: 0.8840858164472116.\u001b[0m\n",
            "\u001b[32m[I 2021-12-17 03:57:22,794]\u001b[0m Trial 77 finished with value: 0.8842078906330556 and parameters: {'max_depth': 102, 'n_estimators': 108, 'min_samples_split': 6, 'min_samples_leaf': 1}. Best is trial 77 with value: 0.8842078906330556.\u001b[0m\n",
            "\u001b[32m[I 2021-12-17 03:58:43,855]\u001b[0m Trial 78 finished with value: 0.882517231250126 and parameters: {'max_depth': 103, 'n_estimators': 109, 'min_samples_split': 7, 'min_samples_leaf': 1}. Best is trial 77 with value: 0.8842078906330556.\u001b[0m\n",
            "\u001b[32m[I 2021-12-17 04:00:06,216]\u001b[0m Trial 79 finished with value: 0.8839124646399561 and parameters: {'max_depth': 101, 'n_estimators': 107, 'min_samples_split': 6, 'min_samples_leaf': 1}. Best is trial 77 with value: 0.8842078906330556.\u001b[0m\n",
            "\u001b[32m[I 2021-12-17 04:01:21,016]\u001b[0m Trial 80 finished with value: 0.882968078388496 and parameters: {'max_depth': 107, 'n_estimators': 104, 'min_samples_split': 6, 'min_samples_leaf': 2}. Best is trial 77 with value: 0.8842078906330556.\u001b[0m\n",
            "\u001b[32m[I 2021-12-17 04:02:44,242]\u001b[0m Trial 81 finished with value: 0.8840625621925445 and parameters: {'max_depth': 95, 'n_estimators': 111, 'min_samples_split': 6, 'min_samples_leaf': 1}. Best is trial 77 with value: 0.8842078906330556.\u001b[0m\n",
            "\u001b[32m[I 2021-12-17 04:04:06,951]\u001b[0m Trial 82 finished with value: 0.8840625621925445 and parameters: {'max_depth': 99, 'n_estimators': 111, 'min_samples_split': 6, 'min_samples_leaf': 1}. Best is trial 77 with value: 0.8842078906330556.\u001b[0m\n",
            "\u001b[32m[I 2021-12-17 04:05:31,222]\u001b[0m Trial 83 finished with value: 0.8840625621925445 and parameters: {'max_depth': 99, 'n_estimators': 111, 'min_samples_split': 6, 'min_samples_leaf': 1}. Best is trial 77 with value: 0.8842078906330556.\u001b[0m\n",
            "\u001b[32m[I 2021-12-17 04:06:53,339]\u001b[0m Trial 84 finished with value: 0.8824544520679233 and parameters: {'max_depth': 99, 'n_estimators': 111, 'min_samples_split': 7, 'min_samples_leaf': 1}. Best is trial 77 with value: 0.8842078906330556.\u001b[0m\n",
            "\u001b[32m[I 2021-12-17 04:08:12,968]\u001b[0m Trial 85 finished with value: 0.8842078906330556 and parameters: {'max_depth': 103, 'n_estimators': 108, 'min_samples_split': 6, 'min_samples_leaf': 1}. Best is trial 77 with value: 0.8842078906330556.\u001b[0m\n",
            "\u001b[32m[I 2021-12-17 04:09:34,177]\u001b[0m Trial 86 finished with value: 0.8842078906330556 and parameters: {'max_depth': 104, 'n_estimators': 108, 'min_samples_split': 6, 'min_samples_leaf': 1}. Best is trial 77 with value: 0.8842078906330556.\u001b[0m\n",
            "\u001b[32m[I 2021-12-17 04:10:45,827]\u001b[0m Trial 87 finished with value: 0.8814039165376956 and parameters: {'max_depth': 105, 'n_estimators': 108, 'min_samples_split': 6, 'min_samples_leaf': 4}. Best is trial 77 with value: 0.8842078906330556.\u001b[0m\n",
            "\u001b[32m[I 2021-12-17 04:12:08,654]\u001b[0m Trial 88 finished with value: 0.8839153260728445 and parameters: {'max_depth': 103, 'n_estimators': 106, 'min_samples_split': 2, 'min_samples_leaf': 1}. Best is trial 77 with value: 0.8842078906330556.\u001b[0m\n",
            "\u001b[32m[I 2021-12-17 04:13:27,179]\u001b[0m Trial 89 finished with value: 0.882517231250126 and parameters: {'max_depth': 110, 'n_estimators': 109, 'min_samples_split': 7, 'min_samples_leaf': 1}. Best is trial 77 with value: 0.8842078906330556.\u001b[0m\n",
            "\u001b[32m[I 2021-12-17 04:14:51,052]\u001b[0m Trial 90 finished with value: 0.8833702715329588 and parameters: {'max_depth': 102, 'n_estimators': 108, 'min_samples_split': 5, 'min_samples_leaf': 1}. Best is trial 77 with value: 0.8842078906330556.\u001b[0m\n",
            "\u001b[32m[I 2021-12-17 04:16:18,569]\u001b[0m Trial 91 finished with value: 0.8839065830671865 and parameters: {'max_depth': 104, 'n_estimators': 110, 'min_samples_split': 6, 'min_samples_leaf': 1}. Best is trial 77 with value: 0.8842078906330556.\u001b[0m\n",
            "\u001b[32m[I 2021-12-17 04:17:44,683]\u001b[0m Trial 92 finished with value: 0.8840858164472116 and parameters: {'max_depth': 108, 'n_estimators': 112, 'min_samples_split': 6, 'min_samples_leaf': 1}. Best is trial 77 with value: 0.8842078906330556.\u001b[0m\n",
            "\u001b[32m[I 2021-12-17 04:19:08,897]\u001b[0m Trial 93 finished with value: 0.8839801849960518 and parameters: {'max_depth': 106, 'n_estimators': 113, 'min_samples_split': 6, 'min_samples_leaf': 1}. Best is trial 77 with value: 0.8842078906330556.\u001b[0m\n",
            "\u001b[32m[I 2021-12-17 04:20:31,873]\u001b[0m Trial 94 finished with value: 0.8840858164472116 and parameters: {'max_depth': 108, 'n_estimators': 112, 'min_samples_split': 6, 'min_samples_leaf': 1}. Best is trial 77 with value: 0.8842078906330556.\u001b[0m\n",
            "\u001b[32m[I 2021-12-17 04:21:54,577]\u001b[0m Trial 95 finished with value: 0.8840858164472116 and parameters: {'max_depth': 108, 'n_estimators': 112, 'min_samples_split': 6, 'min_samples_leaf': 1}. Best is trial 77 with value: 0.8842078906330556.\u001b[0m\n",
            "\u001b[32m[I 2021-12-17 04:23:12,173]\u001b[0m Trial 96 finished with value: 0.8840920915168891 and parameters: {'max_depth': 111, 'n_estimators': 106, 'min_samples_split': 6, 'min_samples_leaf': 1}. Best is trial 77 with value: 0.8842078906330556.\u001b[0m\n",
            "\u001b[32m[I 2021-12-17 04:24:31,409]\u001b[0m Trial 97 finished with value: 0.8840920915168891 and parameters: {'max_depth': 108, 'n_estimators': 106, 'min_samples_split': 6, 'min_samples_leaf': 1}. Best is trial 77 with value: 0.8842078906330556.\u001b[0m\n",
            "\u001b[32m[I 2021-12-17 04:25:48,978]\u001b[0m Trial 98 finished with value: 0.8821835800551041 and parameters: {'max_depth': 112, 'n_estimators': 105, 'min_samples_split': 7, 'min_samples_leaf': 1}. Best is trial 77 with value: 0.8842078906330556.\u001b[0m\n",
            "\u001b[32m[I 2021-12-17 04:27:08,561]\u001b[0m Trial 99 finished with value: 0.8840920915168891 and parameters: {'max_depth': 109, 'n_estimators': 106, 'min_samples_split': 6, 'min_samples_leaf': 1}. Best is trial 77 with value: 0.8842078906330556.\u001b[0m\n"
          ]
        },
        {
          "output_type": "stream",
          "name": "stdout",
          "text": [
            "Precision: 0.8842078906330556\n",
            "Best hyperparameters: {'max_depth': 102, 'n_estimators': 108, 'min_samples_split': 6, 'min_samples_leaf': 1}\n"
          ]
        }
      ]
    },
    {
      "cell_type": "code",
      "source": [
        "optuna.visualization.plot_optimization_history(study)"
      ],
      "metadata": {
        "colab": {
          "base_uri": "https://localhost:8080/",
          "height": 542
        },
        "id": "xQOIkUAlILLP",
        "outputId": "82b77695-45ee-4c5d-b301-40912b593a04"
      },
      "execution_count": 36,
      "outputs": [
        {
          "output_type": "display_data",
          "data": {
            "text/html": [
              "<html>\n",
              "<head><meta charset=\"utf-8\" /></head>\n",
              "<body>\n",
              "    <div>\n",
              "            <script src=\"https://cdnjs.cloudflare.com/ajax/libs/mathjax/2.7.5/MathJax.js?config=TeX-AMS-MML_SVG\"></script><script type=\"text/javascript\">if (window.MathJax) {MathJax.Hub.Config({SVG: {font: \"STIX-Web\"}});}</script>\n",
              "                <script type=\"text/javascript\">window.PlotlyConfig = {MathJaxConfig: 'local'};</script>\n",
              "        <script src=\"https://cdn.plot.ly/plotly-latest.min.js\"></script>    \n",
              "            <div id=\"a215bf01-705c-4ccf-bd18-1a6c81baa601\" class=\"plotly-graph-div\" style=\"height:525px; width:100%;\"></div>\n",
              "            <script type=\"text/javascript\">\n",
              "                \n",
              "                    window.PLOTLYENV=window.PLOTLYENV || {};\n",
              "                    \n",
              "                if (document.getElementById(\"a215bf01-705c-4ccf-bd18-1a6c81baa601\")) {\n",
              "                    Plotly.newPlot(\n",
              "                        'a215bf01-705c-4ccf-bd18-1a6c81baa601',\n",
              "                        [{\"mode\": \"markers\", \"name\": \"Objective Value\", \"type\": \"scatter\", \"x\": [0, 1, 2, 3, 4, 5, 6, 7, 8, 9, 10, 11, 12, 13, 14, 15, 16, 17, 18, 19, 20, 21, 22, 23, 24, 25, 26, 27, 28, 29, 30, 31, 32, 33, 34, 35, 36, 37, 38, 39, 40, 41, 42, 43, 44, 45, 46, 47, 48, 49, 50, 51, 52, 53, 54, 55, 56, 57, 58, 59, 60, 61, 62, 63, 64, 65, 66, 67, 68, 69, 70, 71, 72, 73, 74, 75, 76, 77, 78, 79, 80, 81, 82, 83, 84, 85, 86, 87, 88, 89, 90, 91, 92, 93, 94, 95, 96, 97, 98, 99], \"y\": [0.8809450288726269, 0.8829269776573339, 0.8834686074449041, 0.8832915098995902, 0.8825629420063633, 0.8821206216907163, 0.8803284624370585, 0.8825596354412728, 0.8815469377523012, 0.8828330020600097, 0.8807778799922004, 0.8836540546061842, 0.8836540546061842, 0.8832055424143352, 0.883457067353155, 0.883863246570221, 0.8827222010441682, 0.8836622269616514, 0.882172579165681, 0.8835678350208388, 0.880873333073367, 0.883863246570221, 0.8838429661284245, 0.8829218727944573, 0.8836821763621623, 0.8823670928841354, 0.8823610281195393, 0.8801510924202904, 0.8828644264052301, 0.8834720526753521, 0.8827056474818568, 0.8836821763621623, 0.8838241400085838, 0.8838241400085838, 0.8826524795297234, 0.883863246570221, 0.8833518926757383, 0.8838024742113699, 0.8825875217774491, 0.8839980057806074, 0.8819112553879227, 0.8840697501969343, 0.8838306328473118, 0.8832840673719817, 0.8821900140652014, 0.8813863595047776, 0.8832064722921974, 0.8831440800754937, 0.8815469377523012, 0.8831532776031757, 0.8839801849960518, 0.8838963634148522, 0.8839271788736696, 0.8825085362260545, 0.8837444577809783, 0.8840858164472116, 0.8837503749628695, 0.8824544520679233, 0.8829614917838443, 0.883889312253257, 0.8838101717414671, 0.883912793843143, 0.8840858164472116, 0.883859391431522, 0.8837424662950806, 0.8839090211599423, 0.883048052053575, 0.8827855939688295, 0.8805501322843631, 0.8834867088220765, 0.8829614917838443, 0.8839090211599423, 0.8840858164472116, 0.8840625621925445, 0.8839124646399561, 0.8839065830671865, 0.8825821239388831, 0.8842078906330556, 0.882517231250126, 0.8839124646399561, 0.882968078388496, 0.8840625621925445, 0.8840625621925445, 0.8840625621925445, 0.8824544520679233, 0.8842078906330556, 0.8842078906330556, 0.8814039165376956, 0.8839153260728445, 0.882517231250126, 0.8833702715329588, 0.8839065830671865, 0.8840858164472116, 0.8839801849960518, 0.8840858164472116, 0.8840858164472116, 0.8840920915168891, 0.8840920915168891, 0.8821835800551041, 0.8840920915168891]}, {\"name\": \"Best Value\", \"type\": \"scatter\", \"x\": [0, 1, 2, 3, 4, 5, 6, 7, 8, 9, 10, 11, 12, 13, 14, 15, 16, 17, 18, 19, 20, 21, 22, 23, 24, 25, 26, 27, 28, 29, 30, 31, 32, 33, 34, 35, 36, 37, 38, 39, 40, 41, 42, 43, 44, 45, 46, 47, 48, 49, 50, 51, 52, 53, 54, 55, 56, 57, 58, 59, 60, 61, 62, 63, 64, 65, 66, 67, 68, 69, 70, 71, 72, 73, 74, 75, 76, 77, 78, 79, 80, 81, 82, 83, 84, 85, 86, 87, 88, 89, 90, 91, 92, 93, 94, 95, 96, 97, 98, 99], \"y\": [0.8809450288726269, 0.8829269776573339, 0.8834686074449041, 0.8834686074449041, 0.8834686074449041, 0.8834686074449041, 0.8834686074449041, 0.8834686074449041, 0.8834686074449041, 0.8834686074449041, 0.8834686074449041, 0.8836540546061842, 0.8836540546061842, 0.8836540546061842, 0.8836540546061842, 0.883863246570221, 0.883863246570221, 0.883863246570221, 0.883863246570221, 0.883863246570221, 0.883863246570221, 0.883863246570221, 0.883863246570221, 0.883863246570221, 0.883863246570221, 0.883863246570221, 0.883863246570221, 0.883863246570221, 0.883863246570221, 0.883863246570221, 0.883863246570221, 0.883863246570221, 0.883863246570221, 0.883863246570221, 0.883863246570221, 0.883863246570221, 0.883863246570221, 0.883863246570221, 0.883863246570221, 0.8839980057806074, 0.8839980057806074, 0.8840697501969343, 0.8840697501969343, 0.8840697501969343, 0.8840697501969343, 0.8840697501969343, 0.8840697501969343, 0.8840697501969343, 0.8840697501969343, 0.8840697501969343, 0.8840697501969343, 0.8840697501969343, 0.8840697501969343, 0.8840697501969343, 0.8840697501969343, 0.8840858164472116, 0.8840858164472116, 0.8840858164472116, 0.8840858164472116, 0.8840858164472116, 0.8840858164472116, 0.8840858164472116, 0.8840858164472116, 0.8840858164472116, 0.8840858164472116, 0.8840858164472116, 0.8840858164472116, 0.8840858164472116, 0.8840858164472116, 0.8840858164472116, 0.8840858164472116, 0.8840858164472116, 0.8840858164472116, 0.8840858164472116, 0.8840858164472116, 0.8840858164472116, 0.8840858164472116, 0.8842078906330556, 0.8842078906330556, 0.8842078906330556, 0.8842078906330556, 0.8842078906330556, 0.8842078906330556, 0.8842078906330556, 0.8842078906330556, 0.8842078906330556, 0.8842078906330556, 0.8842078906330556, 0.8842078906330556, 0.8842078906330556, 0.8842078906330556, 0.8842078906330556, 0.8842078906330556, 0.8842078906330556, 0.8842078906330556, 0.8842078906330556, 0.8842078906330556, 0.8842078906330556, 0.8842078906330556, 0.8842078906330556]}],\n",
              "                        {\"template\": {\"data\": {\"bar\": [{\"error_x\": {\"color\": \"#2a3f5f\"}, \"error_y\": {\"color\": \"#2a3f5f\"}, \"marker\": {\"line\": {\"color\": \"#E5ECF6\", \"width\": 0.5}}, \"type\": \"bar\"}], \"barpolar\": [{\"marker\": {\"line\": {\"color\": \"#E5ECF6\", \"width\": 0.5}}, \"type\": \"barpolar\"}], \"carpet\": [{\"aaxis\": {\"endlinecolor\": \"#2a3f5f\", \"gridcolor\": \"white\", \"linecolor\": \"white\", \"minorgridcolor\": \"white\", \"startlinecolor\": \"#2a3f5f\"}, \"baxis\": {\"endlinecolor\": \"#2a3f5f\", \"gridcolor\": \"white\", \"linecolor\": \"white\", \"minorgridcolor\": \"white\", \"startlinecolor\": \"#2a3f5f\"}, \"type\": \"carpet\"}], \"choropleth\": [{\"colorbar\": {\"outlinewidth\": 0, \"ticks\": \"\"}, \"type\": \"choropleth\"}], \"contour\": [{\"colorbar\": {\"outlinewidth\": 0, \"ticks\": \"\"}, \"colorscale\": [[0.0, \"#0d0887\"], [0.1111111111111111, \"#46039f\"], [0.2222222222222222, \"#7201a8\"], [0.3333333333333333, \"#9c179e\"], [0.4444444444444444, \"#bd3786\"], [0.5555555555555556, \"#d8576b\"], [0.6666666666666666, \"#ed7953\"], [0.7777777777777778, \"#fb9f3a\"], [0.8888888888888888, \"#fdca26\"], [1.0, \"#f0f921\"]], \"type\": \"contour\"}], \"contourcarpet\": [{\"colorbar\": {\"outlinewidth\": 0, \"ticks\": \"\"}, \"type\": \"contourcarpet\"}], \"heatmap\": [{\"colorbar\": {\"outlinewidth\": 0, \"ticks\": \"\"}, \"colorscale\": [[0.0, \"#0d0887\"], [0.1111111111111111, \"#46039f\"], [0.2222222222222222, \"#7201a8\"], [0.3333333333333333, \"#9c179e\"], [0.4444444444444444, \"#bd3786\"], [0.5555555555555556, \"#d8576b\"], [0.6666666666666666, \"#ed7953\"], [0.7777777777777778, \"#fb9f3a\"], [0.8888888888888888, \"#fdca26\"], [1.0, \"#f0f921\"]], \"type\": \"heatmap\"}], \"heatmapgl\": [{\"colorbar\": {\"outlinewidth\": 0, \"ticks\": \"\"}, \"colorscale\": [[0.0, \"#0d0887\"], [0.1111111111111111, \"#46039f\"], [0.2222222222222222, \"#7201a8\"], [0.3333333333333333, \"#9c179e\"], [0.4444444444444444, \"#bd3786\"], [0.5555555555555556, \"#d8576b\"], [0.6666666666666666, \"#ed7953\"], [0.7777777777777778, \"#fb9f3a\"], [0.8888888888888888, \"#fdca26\"], [1.0, \"#f0f921\"]], \"type\": \"heatmapgl\"}], \"histogram\": [{\"marker\": {\"colorbar\": {\"outlinewidth\": 0, \"ticks\": \"\"}}, \"type\": \"histogram\"}], \"histogram2d\": [{\"colorbar\": {\"outlinewidth\": 0, \"ticks\": \"\"}, \"colorscale\": [[0.0, \"#0d0887\"], [0.1111111111111111, \"#46039f\"], [0.2222222222222222, \"#7201a8\"], [0.3333333333333333, \"#9c179e\"], [0.4444444444444444, \"#bd3786\"], [0.5555555555555556, \"#d8576b\"], [0.6666666666666666, \"#ed7953\"], [0.7777777777777778, \"#fb9f3a\"], [0.8888888888888888, \"#fdca26\"], [1.0, \"#f0f921\"]], \"type\": \"histogram2d\"}], \"histogram2dcontour\": [{\"colorbar\": {\"outlinewidth\": 0, \"ticks\": \"\"}, \"colorscale\": [[0.0, \"#0d0887\"], [0.1111111111111111, \"#46039f\"], [0.2222222222222222, \"#7201a8\"], [0.3333333333333333, \"#9c179e\"], [0.4444444444444444, \"#bd3786\"], [0.5555555555555556, \"#d8576b\"], [0.6666666666666666, \"#ed7953\"], [0.7777777777777778, \"#fb9f3a\"], [0.8888888888888888, \"#fdca26\"], [1.0, \"#f0f921\"]], \"type\": \"histogram2dcontour\"}], \"mesh3d\": [{\"colorbar\": {\"outlinewidth\": 0, \"ticks\": \"\"}, \"type\": \"mesh3d\"}], \"parcoords\": [{\"line\": {\"colorbar\": {\"outlinewidth\": 0, \"ticks\": \"\"}}, \"type\": \"parcoords\"}], \"pie\": [{\"automargin\": true, \"type\": \"pie\"}], \"scatter\": [{\"marker\": {\"colorbar\": {\"outlinewidth\": 0, \"ticks\": \"\"}}, \"type\": \"scatter\"}], \"scatter3d\": [{\"line\": {\"colorbar\": {\"outlinewidth\": 0, \"ticks\": \"\"}}, \"marker\": {\"colorbar\": {\"outlinewidth\": 0, \"ticks\": \"\"}}, \"type\": \"scatter3d\"}], \"scattercarpet\": [{\"marker\": {\"colorbar\": {\"outlinewidth\": 0, \"ticks\": \"\"}}, \"type\": \"scattercarpet\"}], \"scattergeo\": [{\"marker\": {\"colorbar\": {\"outlinewidth\": 0, \"ticks\": \"\"}}, \"type\": \"scattergeo\"}], \"scattergl\": [{\"marker\": {\"colorbar\": {\"outlinewidth\": 0, \"ticks\": \"\"}}, \"type\": \"scattergl\"}], \"scattermapbox\": [{\"marker\": {\"colorbar\": {\"outlinewidth\": 0, \"ticks\": \"\"}}, \"type\": \"scattermapbox\"}], \"scatterpolar\": [{\"marker\": {\"colorbar\": {\"outlinewidth\": 0, \"ticks\": \"\"}}, \"type\": \"scatterpolar\"}], \"scatterpolargl\": [{\"marker\": {\"colorbar\": {\"outlinewidth\": 0, \"ticks\": \"\"}}, \"type\": \"scatterpolargl\"}], \"scatterternary\": [{\"marker\": {\"colorbar\": {\"outlinewidth\": 0, \"ticks\": \"\"}}, \"type\": \"scatterternary\"}], \"surface\": [{\"colorbar\": {\"outlinewidth\": 0, \"ticks\": \"\"}, \"colorscale\": [[0.0, \"#0d0887\"], [0.1111111111111111, \"#46039f\"], [0.2222222222222222, \"#7201a8\"], [0.3333333333333333, \"#9c179e\"], [0.4444444444444444, \"#bd3786\"], [0.5555555555555556, \"#d8576b\"], [0.6666666666666666, \"#ed7953\"], [0.7777777777777778, \"#fb9f3a\"], [0.8888888888888888, \"#fdca26\"], [1.0, \"#f0f921\"]], \"type\": \"surface\"}], \"table\": [{\"cells\": {\"fill\": {\"color\": \"#EBF0F8\"}, \"line\": {\"color\": \"white\"}}, \"header\": {\"fill\": {\"color\": \"#C8D4E3\"}, \"line\": {\"color\": \"white\"}}, \"type\": \"table\"}]}, \"layout\": {\"annotationdefaults\": {\"arrowcolor\": \"#2a3f5f\", \"arrowhead\": 0, \"arrowwidth\": 1}, \"coloraxis\": {\"colorbar\": {\"outlinewidth\": 0, \"ticks\": \"\"}}, \"colorscale\": {\"diverging\": [[0, \"#8e0152\"], [0.1, \"#c51b7d\"], [0.2, \"#de77ae\"], [0.3, \"#f1b6da\"], [0.4, \"#fde0ef\"], [0.5, \"#f7f7f7\"], [0.6, \"#e6f5d0\"], [0.7, \"#b8e186\"], [0.8, \"#7fbc41\"], [0.9, \"#4d9221\"], [1, \"#276419\"]], \"sequential\": [[0.0, \"#0d0887\"], [0.1111111111111111, \"#46039f\"], [0.2222222222222222, \"#7201a8\"], [0.3333333333333333, \"#9c179e\"], [0.4444444444444444, \"#bd3786\"], [0.5555555555555556, \"#d8576b\"], [0.6666666666666666, \"#ed7953\"], [0.7777777777777778, \"#fb9f3a\"], [0.8888888888888888, \"#fdca26\"], [1.0, \"#f0f921\"]], \"sequentialminus\": [[0.0, \"#0d0887\"], [0.1111111111111111, \"#46039f\"], [0.2222222222222222, \"#7201a8\"], [0.3333333333333333, \"#9c179e\"], [0.4444444444444444, \"#bd3786\"], [0.5555555555555556, \"#d8576b\"], [0.6666666666666666, \"#ed7953\"], [0.7777777777777778, \"#fb9f3a\"], [0.8888888888888888, \"#fdca26\"], [1.0, \"#f0f921\"]]}, \"colorway\": [\"#636efa\", \"#EF553B\", \"#00cc96\", \"#ab63fa\", \"#FFA15A\", \"#19d3f3\", \"#FF6692\", \"#B6E880\", \"#FF97FF\", \"#FECB52\"], \"font\": {\"color\": \"#2a3f5f\"}, \"geo\": {\"bgcolor\": \"white\", \"lakecolor\": \"white\", \"landcolor\": \"#E5ECF6\", \"showlakes\": true, \"showland\": true, \"subunitcolor\": \"white\"}, \"hoverlabel\": {\"align\": \"left\"}, \"hovermode\": \"closest\", \"mapbox\": {\"style\": \"light\"}, \"paper_bgcolor\": \"white\", \"plot_bgcolor\": \"#E5ECF6\", \"polar\": {\"angularaxis\": {\"gridcolor\": \"white\", \"linecolor\": \"white\", \"ticks\": \"\"}, \"bgcolor\": \"#E5ECF6\", \"radialaxis\": {\"gridcolor\": \"white\", \"linecolor\": \"white\", \"ticks\": \"\"}}, \"scene\": {\"xaxis\": {\"backgroundcolor\": \"#E5ECF6\", \"gridcolor\": \"white\", \"gridwidth\": 2, \"linecolor\": \"white\", \"showbackground\": true, \"ticks\": \"\", \"zerolinecolor\": \"white\"}, \"yaxis\": {\"backgroundcolor\": \"#E5ECF6\", \"gridcolor\": \"white\", \"gridwidth\": 2, \"linecolor\": \"white\", \"showbackground\": true, \"ticks\": \"\", \"zerolinecolor\": \"white\"}, \"zaxis\": {\"backgroundcolor\": \"#E5ECF6\", \"gridcolor\": \"white\", \"gridwidth\": 2, \"linecolor\": \"white\", \"showbackground\": true, \"ticks\": \"\", \"zerolinecolor\": \"white\"}}, \"shapedefaults\": {\"line\": {\"color\": \"#2a3f5f\"}}, \"ternary\": {\"aaxis\": {\"gridcolor\": \"white\", \"linecolor\": \"white\", \"ticks\": \"\"}, \"baxis\": {\"gridcolor\": \"white\", \"linecolor\": \"white\", \"ticks\": \"\"}, \"bgcolor\": \"#E5ECF6\", \"caxis\": {\"gridcolor\": \"white\", \"linecolor\": \"white\", \"ticks\": \"\"}}, \"title\": {\"x\": 0.05}, \"xaxis\": {\"automargin\": true, \"gridcolor\": \"white\", \"linecolor\": \"white\", \"ticks\": \"\", \"title\": {\"standoff\": 15}, \"zerolinecolor\": \"white\", \"zerolinewidth\": 2}, \"yaxis\": {\"automargin\": true, \"gridcolor\": \"white\", \"linecolor\": \"white\", \"ticks\": \"\", \"title\": {\"standoff\": 15}, \"zerolinecolor\": \"white\", \"zerolinewidth\": 2}}}, \"title\": {\"text\": \"Optimization History Plot\"}, \"xaxis\": {\"title\": {\"text\": \"#Trials\"}}, \"yaxis\": {\"title\": {\"text\": \"Objective Value\"}}},\n",
              "                        {\"responsive\": true}\n",
              "                    ).then(function(){\n",
              "                            \n",
              "var gd = document.getElementById('a215bf01-705c-4ccf-bd18-1a6c81baa601');\n",
              "var x = new MutationObserver(function (mutations, observer) {{\n",
              "        var display = window.getComputedStyle(gd).display;\n",
              "        if (!display || display === 'none') {{\n",
              "            console.log([gd, 'removed!']);\n",
              "            Plotly.purge(gd);\n",
              "            observer.disconnect();\n",
              "        }}\n",
              "}});\n",
              "\n",
              "// Listen for the removal of the full notebook cells\n",
              "var notebookContainer = gd.closest('#notebook-container');\n",
              "if (notebookContainer) {{\n",
              "    x.observe(notebookContainer, {childList: true});\n",
              "}}\n",
              "\n",
              "// Listen for the clearing of the current output cell\n",
              "var outputEl = gd.closest('.output');\n",
              "if (outputEl) {{\n",
              "    x.observe(outputEl, {childList: true});\n",
              "}}\n",
              "\n",
              "                        })\n",
              "                };\n",
              "                \n",
              "            </script>\n",
              "        </div>\n",
              "</body>\n",
              "</html>"
            ]
          },
          "metadata": {}
        }
      ]
    },
    {
      "cell_type": "code",
      "source": [
        "optuna.visualization.plot_parallel_coordinate(study)"
      ],
      "metadata": {
        "colab": {
          "base_uri": "https://localhost:8080/",
          "height": 542
        },
        "id": "iWbyUZ2oMHhU",
        "outputId": "c2aa0d74-a3f9-432e-e880-0689f1469cc5"
      },
      "execution_count": 37,
      "outputs": [
        {
          "output_type": "display_data",
          "data": {
            "text/html": [
              "<html>\n",
              "<head><meta charset=\"utf-8\" /></head>\n",
              "<body>\n",
              "    <div>\n",
              "            <script src=\"https://cdnjs.cloudflare.com/ajax/libs/mathjax/2.7.5/MathJax.js?config=TeX-AMS-MML_SVG\"></script><script type=\"text/javascript\">if (window.MathJax) {MathJax.Hub.Config({SVG: {font: \"STIX-Web\"}});}</script>\n",
              "                <script type=\"text/javascript\">window.PlotlyConfig = {MathJaxConfig: 'local'};</script>\n",
              "        <script src=\"https://cdn.plot.ly/plotly-latest.min.js\"></script>    \n",
              "            <div id=\"b51e249f-10e3-4204-982b-14c2ef5a753d\" class=\"plotly-graph-div\" style=\"height:525px; width:100%;\"></div>\n",
              "            <script type=\"text/javascript\">\n",
              "                \n",
              "                    window.PLOTLYENV=window.PLOTLYENV || {};\n",
              "                    \n",
              "                if (document.getElementById(\"b51e249f-10e3-4204-982b-14c2ef5a753d\")) {\n",
              "                    Plotly.newPlot(\n",
              "                        'b51e249f-10e3-4204-982b-14c2ef5a753d',\n",
              "                        [{\"dimensions\": [{\"label\": \"Objective Value\", \"range\": [0.8801510924202904, 0.8842078906330556], \"values\": [0.8809450288726269, 0.8829269776573339, 0.8834686074449041, 0.8832915098995902, 0.8825629420063633, 0.8821206216907163, 0.8803284624370585, 0.8825596354412728, 0.8815469377523012, 0.8828330020600097, 0.8807778799922004, 0.8836540546061842, 0.8836540546061842, 0.8832055424143352, 0.883457067353155, 0.883863246570221, 0.8827222010441682, 0.8836622269616514, 0.882172579165681, 0.8835678350208388, 0.880873333073367, 0.883863246570221, 0.8838429661284245, 0.8829218727944573, 0.8836821763621623, 0.8823670928841354, 0.8823610281195393, 0.8801510924202904, 0.8828644264052301, 0.8834720526753521, 0.8827056474818568, 0.8836821763621623, 0.8838241400085838, 0.8838241400085838, 0.8826524795297234, 0.883863246570221, 0.8833518926757383, 0.8838024742113699, 0.8825875217774491, 0.8839980057806074, 0.8819112553879227, 0.8840697501969343, 0.8838306328473118, 0.8832840673719817, 0.8821900140652014, 0.8813863595047776, 0.8832064722921974, 0.8831440800754937, 0.8815469377523012, 0.8831532776031757, 0.8839801849960518, 0.8838963634148522, 0.8839271788736696, 0.8825085362260545, 0.8837444577809783, 0.8840858164472116, 0.8837503749628695, 0.8824544520679233, 0.8829614917838443, 0.883889312253257, 0.8838101717414671, 0.883912793843143, 0.8840858164472116, 0.883859391431522, 0.8837424662950806, 0.8839090211599423, 0.883048052053575, 0.8827855939688295, 0.8805501322843631, 0.8834867088220765, 0.8829614917838443, 0.8839090211599423, 0.8840858164472116, 0.8840625621925445, 0.8839124646399561, 0.8839065830671865, 0.8825821239388831, 0.8842078906330556, 0.882517231250126, 0.8839124646399561, 0.882968078388496, 0.8840625621925445, 0.8840625621925445, 0.8840625621925445, 0.8824544520679233, 0.8842078906330556, 0.8842078906330556, 0.8814039165376956, 0.8839153260728445, 0.882517231250126, 0.8833702715329588, 0.8839065830671865, 0.8840858164472116, 0.8839801849960518, 0.8840858164472116, 0.8840858164472116, 0.8840920915168891, 0.8840920915168891, 0.8821835800551041, 0.8840920915168891]}, {\"label\": \"max_depth\", \"range\": [80, 120], \"values\": [119, 107, 81, 87, 113, 107, 93, 94, 99, 84, 83, 82, 80, 90, 80, 98, 100, 106, 103, 109, 96, 116, 119, 120, 114, 116, 111, 117, 104, 120, 117, 114, 111, 117, 118, 97, 98, 102, 91, 94, 96, 88, 86, 89, 93, 96, 88, 91, 85, 100, 98, 98, 94, 93, 94, 95, 100, 95, 92, 98, 101, 98, 95, 94, 89, 104, 95, 91, 87, 97, 82, 105, 106, 102, 108, 102, 106, 102, 103, 101, 107, 95, 99, 99, 99, 103, 104, 105, 103, 110, 102, 104, 108, 106, 108, 108, 111, 108, 112, 109]}, {\"label\": \"min_samples_leaf\", \"range\": [1, 5], \"values\": [4, 3, 1, 1, 1, 3, 4, 3, 3, 2, 5, 1, 1, 2, 2, 1, 2, 1, 2, 1, 4, 1, 1, 2, 1, 2, 1, 5, 2, 1, 1, 1, 1, 1, 2, 1, 1, 1, 2, 1, 3, 1, 1, 1, 1, 4, 2, 1, 3, 2, 1, 1, 1, 1, 1, 1, 1, 1, 2, 1, 1, 1, 1, 1, 1, 1, 2, 1, 5, 1, 2, 1, 1, 1, 1, 1, 1, 1, 1, 1, 2, 1, 1, 1, 1, 1, 1, 4, 1, 1, 1, 1, 1, 1, 1, 1, 1, 1, 1, 1]}, {\"label\": \"min_samples_split\", \"range\": [2, 9], \"values\": [6, 2, 4, 9, 9, 2, 9, 3, 7, 7, 4, 5, 5, 5, 5, 6, 7, 6, 8, 6, 8, 6, 6, 7, 6, 4, 8, 6, 7, 5, 4, 6, 6, 6, 7, 6, 5, 3, 8, 6, 7, 6, 6, 5, 7, 6, 5, 4, 7, 5, 6, 6, 6, 7, 5, 6, 6, 7, 6, 5, 3, 5, 6, 5, 5, 6, 4, 7, 6, 5, 6, 6, 6, 6, 6, 6, 7, 6, 7, 6, 6, 6, 6, 6, 7, 6, 6, 6, 2, 7, 5, 6, 6, 6, 6, 6, 6, 6, 7, 6]}, {\"label\": \"n_estimators\", \"range\": [80, 120], \"values\": [82, 116, 112, 103, 93, 94, 90, 109, 100, 111, 120, 105, 105, 103, 106, 98, 98, 86, 80, 87, 85, 98, 96, 97, 95, 90, 100, 91, 99, 102, 96, 95, 92, 92, 87, 98, 101, 107, 97, 103, 109, 99, 102, 99, 94, 105, 116, 104, 100, 108, 113, 116, 115, 115, 113, 112, 119, 111, 118, 114, 117, 114, 112, 112, 110, 114, 112, 110, 114, 120, 118, 114, 112, 111, 107, 110, 112, 108, 109, 107, 104, 111, 111, 111, 111, 108, 108, 108, 106, 109, 108, 110, 112, 113, 112, 112, 106, 106, 105, 106]}], \"labelangle\": 30, \"labelside\": \"bottom\", \"line\": {\"color\": [0.8809450288726269, 0.8829269776573339, 0.8834686074449041, 0.8832915098995902, 0.8825629420063633, 0.8821206216907163, 0.8803284624370585, 0.8825596354412728, 0.8815469377523012, 0.8828330020600097, 0.8807778799922004, 0.8836540546061842, 0.8836540546061842, 0.8832055424143352, 0.883457067353155, 0.883863246570221, 0.8827222010441682, 0.8836622269616514, 0.882172579165681, 0.8835678350208388, 0.880873333073367, 0.883863246570221, 0.8838429661284245, 0.8829218727944573, 0.8836821763621623, 0.8823670928841354, 0.8823610281195393, 0.8801510924202904, 0.8828644264052301, 0.8834720526753521, 0.8827056474818568, 0.8836821763621623, 0.8838241400085838, 0.8838241400085838, 0.8826524795297234, 0.883863246570221, 0.8833518926757383, 0.8838024742113699, 0.8825875217774491, 0.8839980057806074, 0.8819112553879227, 0.8840697501969343, 0.8838306328473118, 0.8832840673719817, 0.8821900140652014, 0.8813863595047776, 0.8832064722921974, 0.8831440800754937, 0.8815469377523012, 0.8831532776031757, 0.8839801849960518, 0.8838963634148522, 0.8839271788736696, 0.8825085362260545, 0.8837444577809783, 0.8840858164472116, 0.8837503749628695, 0.8824544520679233, 0.8829614917838443, 0.883889312253257, 0.8838101717414671, 0.883912793843143, 0.8840858164472116, 0.883859391431522, 0.8837424662950806, 0.8839090211599423, 0.883048052053575, 0.8827855939688295, 0.8805501322843631, 0.8834867088220765, 0.8829614917838443, 0.8839090211599423, 0.8840858164472116, 0.8840625621925445, 0.8839124646399561, 0.8839065830671865, 0.8825821239388831, 0.8842078906330556, 0.882517231250126, 0.8839124646399561, 0.882968078388496, 0.8840625621925445, 0.8840625621925445, 0.8840625621925445, 0.8824544520679233, 0.8842078906330556, 0.8842078906330556, 0.8814039165376956, 0.8839153260728445, 0.882517231250126, 0.8833702715329588, 0.8839065830671865, 0.8840858164472116, 0.8839801849960518, 0.8840858164472116, 0.8840858164472116, 0.8840920915168891, 0.8840920915168891, 0.8821835800551041, 0.8840920915168891], \"colorbar\": {\"title\": {\"text\": \"Objective Value\"}}, \"colorscale\": [[0.0, \"rgb(247,251,255)\"], [0.125, \"rgb(222,235,247)\"], [0.25, \"rgb(198,219,239)\"], [0.375, \"rgb(158,202,225)\"], [0.5, \"rgb(107,174,214)\"], [0.625, \"rgb(66,146,198)\"], [0.75, \"rgb(33,113,181)\"], [0.875, \"rgb(8,81,156)\"], [1.0, \"rgb(8,48,107)\"]], \"reversescale\": false, \"showscale\": true}, \"type\": \"parcoords\"}],\n",
              "                        {\"template\": {\"data\": {\"bar\": [{\"error_x\": {\"color\": \"#2a3f5f\"}, \"error_y\": {\"color\": \"#2a3f5f\"}, \"marker\": {\"line\": {\"color\": \"#E5ECF6\", \"width\": 0.5}}, \"type\": \"bar\"}], \"barpolar\": [{\"marker\": {\"line\": {\"color\": \"#E5ECF6\", \"width\": 0.5}}, \"type\": \"barpolar\"}], \"carpet\": [{\"aaxis\": {\"endlinecolor\": \"#2a3f5f\", \"gridcolor\": \"white\", \"linecolor\": \"white\", \"minorgridcolor\": \"white\", \"startlinecolor\": \"#2a3f5f\"}, \"baxis\": {\"endlinecolor\": \"#2a3f5f\", \"gridcolor\": \"white\", \"linecolor\": \"white\", \"minorgridcolor\": \"white\", \"startlinecolor\": \"#2a3f5f\"}, \"type\": \"carpet\"}], \"choropleth\": [{\"colorbar\": {\"outlinewidth\": 0, \"ticks\": \"\"}, \"type\": \"choropleth\"}], \"contour\": [{\"colorbar\": {\"outlinewidth\": 0, \"ticks\": \"\"}, \"colorscale\": [[0.0, \"#0d0887\"], [0.1111111111111111, \"#46039f\"], [0.2222222222222222, \"#7201a8\"], [0.3333333333333333, \"#9c179e\"], [0.4444444444444444, \"#bd3786\"], [0.5555555555555556, \"#d8576b\"], [0.6666666666666666, \"#ed7953\"], [0.7777777777777778, \"#fb9f3a\"], [0.8888888888888888, \"#fdca26\"], [1.0, \"#f0f921\"]], \"type\": \"contour\"}], \"contourcarpet\": [{\"colorbar\": {\"outlinewidth\": 0, \"ticks\": \"\"}, \"type\": \"contourcarpet\"}], \"heatmap\": [{\"colorbar\": {\"outlinewidth\": 0, \"ticks\": \"\"}, \"colorscale\": [[0.0, \"#0d0887\"], [0.1111111111111111, \"#46039f\"], [0.2222222222222222, \"#7201a8\"], [0.3333333333333333, \"#9c179e\"], [0.4444444444444444, \"#bd3786\"], [0.5555555555555556, \"#d8576b\"], [0.6666666666666666, \"#ed7953\"], [0.7777777777777778, \"#fb9f3a\"], [0.8888888888888888, \"#fdca26\"], [1.0, \"#f0f921\"]], \"type\": \"heatmap\"}], \"heatmapgl\": [{\"colorbar\": {\"outlinewidth\": 0, \"ticks\": \"\"}, \"colorscale\": [[0.0, \"#0d0887\"], [0.1111111111111111, \"#46039f\"], [0.2222222222222222, \"#7201a8\"], [0.3333333333333333, \"#9c179e\"], [0.4444444444444444, \"#bd3786\"], [0.5555555555555556, \"#d8576b\"], [0.6666666666666666, \"#ed7953\"], [0.7777777777777778, \"#fb9f3a\"], [0.8888888888888888, \"#fdca26\"], [1.0, \"#f0f921\"]], \"type\": \"heatmapgl\"}], \"histogram\": [{\"marker\": {\"colorbar\": {\"outlinewidth\": 0, \"ticks\": \"\"}}, \"type\": \"histogram\"}], \"histogram2d\": [{\"colorbar\": {\"outlinewidth\": 0, \"ticks\": \"\"}, \"colorscale\": [[0.0, \"#0d0887\"], [0.1111111111111111, \"#46039f\"], [0.2222222222222222, \"#7201a8\"], [0.3333333333333333, \"#9c179e\"], [0.4444444444444444, \"#bd3786\"], [0.5555555555555556, \"#d8576b\"], [0.6666666666666666, \"#ed7953\"], [0.7777777777777778, \"#fb9f3a\"], [0.8888888888888888, \"#fdca26\"], [1.0, \"#f0f921\"]], \"type\": \"histogram2d\"}], \"histogram2dcontour\": [{\"colorbar\": {\"outlinewidth\": 0, \"ticks\": \"\"}, \"colorscale\": [[0.0, \"#0d0887\"], [0.1111111111111111, \"#46039f\"], [0.2222222222222222, \"#7201a8\"], [0.3333333333333333, \"#9c179e\"], [0.4444444444444444, \"#bd3786\"], [0.5555555555555556, \"#d8576b\"], [0.6666666666666666, \"#ed7953\"], [0.7777777777777778, \"#fb9f3a\"], [0.8888888888888888, \"#fdca26\"], [1.0, \"#f0f921\"]], \"type\": \"histogram2dcontour\"}], \"mesh3d\": [{\"colorbar\": {\"outlinewidth\": 0, \"ticks\": \"\"}, \"type\": \"mesh3d\"}], \"parcoords\": [{\"line\": {\"colorbar\": {\"outlinewidth\": 0, \"ticks\": \"\"}}, \"type\": \"parcoords\"}], \"pie\": [{\"automargin\": true, \"type\": \"pie\"}], \"scatter\": [{\"marker\": {\"colorbar\": {\"outlinewidth\": 0, \"ticks\": \"\"}}, \"type\": \"scatter\"}], \"scatter3d\": [{\"line\": {\"colorbar\": {\"outlinewidth\": 0, \"ticks\": \"\"}}, \"marker\": {\"colorbar\": {\"outlinewidth\": 0, \"ticks\": \"\"}}, \"type\": \"scatter3d\"}], \"scattercarpet\": [{\"marker\": {\"colorbar\": {\"outlinewidth\": 0, \"ticks\": \"\"}}, \"type\": \"scattercarpet\"}], \"scattergeo\": [{\"marker\": {\"colorbar\": {\"outlinewidth\": 0, \"ticks\": \"\"}}, \"type\": \"scattergeo\"}], \"scattergl\": [{\"marker\": {\"colorbar\": {\"outlinewidth\": 0, \"ticks\": \"\"}}, \"type\": \"scattergl\"}], \"scattermapbox\": [{\"marker\": {\"colorbar\": {\"outlinewidth\": 0, \"ticks\": \"\"}}, \"type\": \"scattermapbox\"}], \"scatterpolar\": [{\"marker\": {\"colorbar\": {\"outlinewidth\": 0, \"ticks\": \"\"}}, \"type\": \"scatterpolar\"}], \"scatterpolargl\": [{\"marker\": {\"colorbar\": {\"outlinewidth\": 0, \"ticks\": \"\"}}, \"type\": \"scatterpolargl\"}], \"scatterternary\": [{\"marker\": {\"colorbar\": {\"outlinewidth\": 0, \"ticks\": \"\"}}, \"type\": \"scatterternary\"}], \"surface\": [{\"colorbar\": {\"outlinewidth\": 0, \"ticks\": \"\"}, \"colorscale\": [[0.0, \"#0d0887\"], [0.1111111111111111, \"#46039f\"], [0.2222222222222222, \"#7201a8\"], [0.3333333333333333, \"#9c179e\"], [0.4444444444444444, \"#bd3786\"], [0.5555555555555556, \"#d8576b\"], [0.6666666666666666, \"#ed7953\"], [0.7777777777777778, \"#fb9f3a\"], [0.8888888888888888, \"#fdca26\"], [1.0, \"#f0f921\"]], \"type\": \"surface\"}], \"table\": [{\"cells\": {\"fill\": {\"color\": \"#EBF0F8\"}, \"line\": {\"color\": \"white\"}}, \"header\": {\"fill\": {\"color\": \"#C8D4E3\"}, \"line\": {\"color\": \"white\"}}, \"type\": \"table\"}]}, \"layout\": {\"annotationdefaults\": {\"arrowcolor\": \"#2a3f5f\", \"arrowhead\": 0, \"arrowwidth\": 1}, \"coloraxis\": {\"colorbar\": {\"outlinewidth\": 0, \"ticks\": \"\"}}, \"colorscale\": {\"diverging\": [[0, \"#8e0152\"], [0.1, \"#c51b7d\"], [0.2, \"#de77ae\"], [0.3, \"#f1b6da\"], [0.4, \"#fde0ef\"], [0.5, \"#f7f7f7\"], [0.6, \"#e6f5d0\"], [0.7, \"#b8e186\"], [0.8, \"#7fbc41\"], [0.9, \"#4d9221\"], [1, \"#276419\"]], \"sequential\": [[0.0, \"#0d0887\"], [0.1111111111111111, \"#46039f\"], [0.2222222222222222, \"#7201a8\"], [0.3333333333333333, \"#9c179e\"], [0.4444444444444444, \"#bd3786\"], [0.5555555555555556, \"#d8576b\"], [0.6666666666666666, \"#ed7953\"], [0.7777777777777778, \"#fb9f3a\"], [0.8888888888888888, \"#fdca26\"], [1.0, \"#f0f921\"]], \"sequentialminus\": [[0.0, \"#0d0887\"], [0.1111111111111111, \"#46039f\"], [0.2222222222222222, \"#7201a8\"], [0.3333333333333333, \"#9c179e\"], [0.4444444444444444, \"#bd3786\"], [0.5555555555555556, \"#d8576b\"], [0.6666666666666666, \"#ed7953\"], [0.7777777777777778, \"#fb9f3a\"], [0.8888888888888888, \"#fdca26\"], [1.0, \"#f0f921\"]]}, \"colorway\": [\"#636efa\", \"#EF553B\", \"#00cc96\", \"#ab63fa\", \"#FFA15A\", \"#19d3f3\", \"#FF6692\", \"#B6E880\", \"#FF97FF\", \"#FECB52\"], \"font\": {\"color\": \"#2a3f5f\"}, \"geo\": {\"bgcolor\": \"white\", \"lakecolor\": \"white\", \"landcolor\": \"#E5ECF6\", \"showlakes\": true, \"showland\": true, \"subunitcolor\": \"white\"}, \"hoverlabel\": {\"align\": \"left\"}, \"hovermode\": \"closest\", \"mapbox\": {\"style\": \"light\"}, \"paper_bgcolor\": \"white\", \"plot_bgcolor\": \"#E5ECF6\", \"polar\": {\"angularaxis\": {\"gridcolor\": \"white\", \"linecolor\": \"white\", \"ticks\": \"\"}, \"bgcolor\": \"#E5ECF6\", \"radialaxis\": {\"gridcolor\": \"white\", \"linecolor\": \"white\", \"ticks\": \"\"}}, \"scene\": {\"xaxis\": {\"backgroundcolor\": \"#E5ECF6\", \"gridcolor\": \"white\", \"gridwidth\": 2, \"linecolor\": \"white\", \"showbackground\": true, \"ticks\": \"\", \"zerolinecolor\": \"white\"}, \"yaxis\": {\"backgroundcolor\": \"#E5ECF6\", \"gridcolor\": \"white\", \"gridwidth\": 2, \"linecolor\": \"white\", \"showbackground\": true, \"ticks\": \"\", \"zerolinecolor\": \"white\"}, \"zaxis\": {\"backgroundcolor\": \"#E5ECF6\", \"gridcolor\": \"white\", \"gridwidth\": 2, \"linecolor\": \"white\", \"showbackground\": true, \"ticks\": \"\", \"zerolinecolor\": \"white\"}}, \"shapedefaults\": {\"line\": {\"color\": \"#2a3f5f\"}}, \"ternary\": {\"aaxis\": {\"gridcolor\": \"white\", \"linecolor\": \"white\", \"ticks\": \"\"}, \"baxis\": {\"gridcolor\": \"white\", \"linecolor\": \"white\", \"ticks\": \"\"}, \"bgcolor\": \"#E5ECF6\", \"caxis\": {\"gridcolor\": \"white\", \"linecolor\": \"white\", \"ticks\": \"\"}}, \"title\": {\"x\": 0.05}, \"xaxis\": {\"automargin\": true, \"gridcolor\": \"white\", \"linecolor\": \"white\", \"ticks\": \"\", \"title\": {\"standoff\": 15}, \"zerolinecolor\": \"white\", \"zerolinewidth\": 2}, \"yaxis\": {\"automargin\": true, \"gridcolor\": \"white\", \"linecolor\": \"white\", \"ticks\": \"\", \"title\": {\"standoff\": 15}, \"zerolinecolor\": \"white\", \"zerolinewidth\": 2}}}, \"title\": {\"text\": \"Parallel Coordinate Plot\"}},\n",
              "                        {\"responsive\": true}\n",
              "                    ).then(function(){\n",
              "                            \n",
              "var gd = document.getElementById('b51e249f-10e3-4204-982b-14c2ef5a753d');\n",
              "var x = new MutationObserver(function (mutations, observer) {{\n",
              "        var display = window.getComputedStyle(gd).display;\n",
              "        if (!display || display === 'none') {{\n",
              "            console.log([gd, 'removed!']);\n",
              "            Plotly.purge(gd);\n",
              "            observer.disconnect();\n",
              "        }}\n",
              "}});\n",
              "\n",
              "// Listen for the removal of the full notebook cells\n",
              "var notebookContainer = gd.closest('#notebook-container');\n",
              "if (notebookContainer) {{\n",
              "    x.observe(notebookContainer, {childList: true});\n",
              "}}\n",
              "\n",
              "// Listen for the clearing of the current output cell\n",
              "var outputEl = gd.closest('.output');\n",
              "if (outputEl) {{\n",
              "    x.observe(outputEl, {childList: true});\n",
              "}}\n",
              "\n",
              "                        })\n",
              "                };\n",
              "                \n",
              "            </script>\n",
              "        </div>\n",
              "</body>\n",
              "</html>"
            ]
          },
          "metadata": {}
        }
      ]
    },
    {
      "cell_type": "code",
      "source": [
        "study.best_params"
      ],
      "metadata": {
        "colab": {
          "base_uri": "https://localhost:8080/"
        },
        "id": "1hNsXUpTqQJS",
        "outputId": "fe02f4f4-91ad-4f1c-8485-9f691ea5d386"
      },
      "execution_count": 39,
      "outputs": [
        {
          "output_type": "execute_result",
          "data": {
            "text/plain": [
              "{'max_depth': 102,\n",
              " 'min_samples_leaf': 1,\n",
              " 'min_samples_split': 6,\n",
              " 'n_estimators': 108}"
            ]
          },
          "metadata": {},
          "execution_count": 39
        }
      ]
    },
    {
      "cell_type": "code",
      "source": [
        "params = {'max_depth': 102,\n",
        " 'min_samples_leaf': 1,\n",
        " 'min_samples_split': 6,\n",
        " 'n_estimators': 108}\n",
        "\n",
        "\n",
        "from sklearn.ensemble import ExtraTreesClassifier   \n",
        "\n",
        "et_clf = ExtraTreesClassifier(**params)\n",
        "et_clf.fit(x_train, y_train)\n",
        "#et_clf.fit(X, Y)\n",
        "y_pred_et = et_clf.predict(x_test)\n",
        "# y_pred_test = xgb_clf.predict(test_df)\n",
        "x_pred = et_clf.predict(x_train)\n",
        "\n",
        "print(\"The accuracy of train set is : \", accuracy_score(y_train,x_pred))\n",
        "print(\"\\n\")\n",
        "print(\"The accuracy of test is : \", accuracy_score(y_test,y_pred_et))\n",
        "print(\"\\n\")\n",
        "print(\"The classification report is as follows:\\n\", classification_report(y_test,y_pred_et))\n",
        "print(\"The F1 Score is as follows:\\n\", f1_score(y_test, y_pred_et, labels=None, pos_label=1, average='weighted'))"
      ],
      "metadata": {
        "colab": {
          "base_uri": "https://localhost:8080/"
        },
        "id": "FwCbpzxuqVU5",
        "outputId": "0aa11a18-9f93-4390-8ee3-9d46f4715ac4"
      },
      "execution_count": 40,
      "outputs": [
        {
          "output_type": "stream",
          "name": "stdout",
          "text": [
            "The accuracy of train set is :  0.9931150698122292\n",
            "\n",
            "\n",
            "The accuracy of test is :  0.838514173998045\n",
            "\n",
            "\n",
            "The classification report is as follows:\n",
            "               precision    recall  f1-score   support\n",
            "\n",
            "         0.0       0.80      0.69      0.74      6855\n",
            "         1.0       0.85      0.92      0.88     13605\n",
            "\n",
            "    accuracy                           0.84     20460\n",
            "   macro avg       0.83      0.80      0.81     20460\n",
            "weighted avg       0.84      0.84      0.84     20460\n",
            "\n",
            "The F1 Score is as follows:\n",
            " 0.8350154892359416\n"
          ]
        }
      ]
    },
    {
      "cell_type": "code",
      "source": [
        "sns.distplot(y_pred_et, label='pred')\n",
        "sns.distplot(y_train, label='ground truth')\n",
        "plt.legend()\n",
        "plt.show()"
      ],
      "metadata": {
        "colab": {
          "base_uri": "https://localhost:8080/",
          "height": 446
        },
        "id": "zRIf3U6aMHmA",
        "outputId": "22bb8501-e669-4150-fe3d-aa7f1b423cf0"
      },
      "execution_count": 41,
      "outputs": [
        {
          "output_type": "stream",
          "name": "stderr",
          "text": [
            "/usr/local/lib/python3.7/dist-packages/seaborn/distributions.py:2619: FutureWarning:\n",
            "\n",
            "`distplot` is a deprecated function and will be removed in a future version. Please adapt your code to use either `displot` (a figure-level function with similar flexibility) or `histplot` (an axes-level function for histograms).\n",
            "\n",
            "/usr/local/lib/python3.7/dist-packages/seaborn/distributions.py:2619: FutureWarning:\n",
            "\n",
            "`distplot` is a deprecated function and will be removed in a future version. Please adapt your code to use either `displot` (a figure-level function with similar flexibility) or `histplot` (an axes-level function for histograms).\n",
            "\n"
          ]
        },
        {
          "output_type": "display_data",
          "data": {
            "image/png": "[encoded data removed]",
            "text/plain": [
              "<Figure size 432x288 with 1 Axes>"
            ]
          },
          "metadata": {
            "needs_background": "light"
          }
        }
      ]
    },
    {
      "cell_type": "code",
      "source": [
        "optuna.visualization.plot_param_importances(study)"
      ],
      "metadata": {
        "colab": {
          "base_uri": "https://localhost:8080/",
          "height": 542
        },
        "id": "EVA8lUtLMHoB",
        "outputId": "638604a2-aaee-4374-a612-2853bc4ddd15"
      },
      "execution_count": 46,
      "outputs": [
        {
          "output_type": "display_data",
          "data": {
            "text/html": [
              "<html>\n",
              "<head><meta charset=\"utf-8\" /></head>\n",
              "<body>\n",
              "    <div>\n",
              "            <script src=\"https://cdnjs.cloudflare.com/ajax/libs/mathjax/2.7.5/MathJax.js?config=TeX-AMS-MML_SVG\"></script><script type=\"text/javascript\">if (window.MathJax) {MathJax.Hub.Config({SVG: {font: \"STIX-Web\"}});}</script>\n",
              "                <script type=\"text/javascript\">window.PlotlyConfig = {MathJaxConfig: 'local'};</script>\n",
              "        <script src=\"https://cdn.plot.ly/plotly-latest.min.js\"></script>    \n",
              "            <div id=\"2311e86f-fab0-4286-8a54-8811c663adc4\" class=\"plotly-graph-div\" style=\"height:525px; width:100%;\"></div>\n",
              "            <script type=\"text/javascript\">\n",
              "                \n",
              "                    window.PLOTLYENV=window.PLOTLYENV || {};\n",
              "                    \n",
              "                if (document.getElementById(\"2311e86f-fab0-4286-8a54-8811c663adc4\")) {\n",
              "                    Plotly.newPlot(\n",
              "                        '2311e86f-fab0-4286-8a54-8811c663adc4',\n",
              "                        [{\"cliponaxis\": false, \"hovertemplate\": [\"max_depth (IntUniformDistribution): 0.01412539991430066<extra></extra>\", \"n_estimators (IntUniformDistribution): 0.0632515669405463<extra></extra>\", \"min_samples_split (IntUniformDistribution): 0.0843090774076576<extra></extra>\", \"min_samples_leaf (IntUniformDistribution): 0.8383139557374955<extra></extra>\"], \"marker\": {\"color\": \"rgb(66,146,198)\"}, \"orientation\": \"h\", \"text\": [\"0.01412539991430066\", \"0.0632515669405463\", \"0.0843090774076576\", \"0.8383139557374955\"], \"textposition\": \"outside\", \"texttemplate\": \"%{text:.2f}\", \"type\": \"bar\", \"x\": [0.01412539991430066, 0.0632515669405463, 0.0843090774076576, 0.8383139557374955], \"y\": [\"max_depth\", \"n_estimators\", \"min_samples_split\", \"min_samples_leaf\"]}],\n",
              "                        {\"showlegend\": false, \"template\": {\"data\": {\"bar\": [{\"error_x\": {\"color\": \"#2a3f5f\"}, \"error_y\": {\"color\": \"#2a3f5f\"}, \"marker\": {\"line\": {\"color\": \"#E5ECF6\", \"width\": 0.5}}, \"type\": \"bar\"}], \"barpolar\": [{\"marker\": {\"line\": {\"color\": \"#E5ECF6\", \"width\": 0.5}}, \"type\": \"barpolar\"}], \"carpet\": [{\"aaxis\": {\"endlinecolor\": \"#2a3f5f\", \"gridcolor\": \"white\", \"linecolor\": \"white\", \"minorgridcolor\": \"white\", \"startlinecolor\": \"#2a3f5f\"}, \"baxis\": {\"endlinecolor\": \"#2a3f5f\", \"gridcolor\": \"white\", \"linecolor\": \"white\", \"minorgridcolor\": \"white\", \"startlinecolor\": \"#2a3f5f\"}, \"type\": \"carpet\"}], \"choropleth\": [{\"colorbar\": {\"outlinewidth\": 0, \"ticks\": \"\"}, \"type\": \"choropleth\"}], \"contour\": [{\"colorbar\": {\"outlinewidth\": 0, \"ticks\": \"\"}, \"colorscale\": [[0.0, \"#0d0887\"], [0.1111111111111111, \"#46039f\"], [0.2222222222222222, \"#7201a8\"], [0.3333333333333333, \"#9c179e\"], [0.4444444444444444, \"#bd3786\"], [0.5555555555555556, \"#d8576b\"], [0.6666666666666666, \"#ed7953\"], [0.7777777777777778, \"#fb9f3a\"], [0.8888888888888888, \"#fdca26\"], [1.0, \"#f0f921\"]], \"type\": \"contour\"}], \"contourcarpet\": [{\"colorbar\": {\"outlinewidth\": 0, \"ticks\": \"\"}, \"type\": \"contourcarpet\"}], \"heatmap\": [{\"colorbar\": {\"outlinewidth\": 0, \"ticks\": \"\"}, \"colorscale\": [[0.0, \"#0d0887\"], [0.1111111111111111, \"#46039f\"], [0.2222222222222222, \"#7201a8\"], [0.3333333333333333, \"#9c179e\"], [0.4444444444444444, \"#bd3786\"], [0.5555555555555556, \"#d8576b\"], [0.6666666666666666, \"#ed7953\"], [0.7777777777777778, \"#fb9f3a\"], [0.8888888888888888, \"#fdca26\"], [1.0, \"#f0f921\"]], \"type\": \"heatmap\"}], \"heatmapgl\": [{\"colorbar\": {\"outlinewidth\": 0, \"ticks\": \"\"}, \"colorscale\": [[0.0, \"#0d0887\"], [0.1111111111111111, \"#46039f\"], [0.2222222222222222, \"#7201a8\"], [0.3333333333333333, \"#9c179e\"], [0.4444444444444444, \"#bd3786\"], [0.5555555555555556, \"#d8576b\"], [0.6666666666666666, \"#ed7953\"], [0.7777777777777778, \"#fb9f3a\"], [0.8888888888888888, \"#fdca26\"], [1.0, \"#f0f921\"]], \"type\": \"heatmapgl\"}], \"histogram\": [{\"marker\": {\"colorbar\": {\"outlinewidth\": 0, \"ticks\": \"\"}}, \"type\": \"histogram\"}], \"histogram2d\": [{\"colorbar\": {\"outlinewidth\": 0, \"ticks\": \"\"}, \"colorscale\": [[0.0, \"#0d0887\"], [0.1111111111111111, \"#46039f\"], [0.2222222222222222, \"#7201a8\"], [0.3333333333333333, \"#9c179e\"], [0.4444444444444444, \"#bd3786\"], [0.5555555555555556, \"#d8576b\"], [0.6666666666666666, \"#ed7953\"], [0.7777777777777778, \"#fb9f3a\"], [0.8888888888888888, \"#fdca26\"], [1.0, \"#f0f921\"]], \"type\": \"histogram2d\"}], \"histogram2dcontour\": [{\"colorbar\": {\"outlinewidth\": 0, \"ticks\": \"\"}, \"colorscale\": [[0.0, \"#0d0887\"], [0.1111111111111111, \"#46039f\"], [0.2222222222222222, \"#7201a8\"], [0.3333333333333333, \"#9c179e\"], [0.4444444444444444, \"#bd3786\"], [0.5555555555555556, \"#d8576b\"], [0.6666666666666666, \"#ed7953\"], [0.7777777777777778, \"#fb9f3a\"], [0.8888888888888888, \"#fdca26\"], [1.0, \"#f0f921\"]], \"type\": \"histogram2dcontour\"}], \"mesh3d\": [{\"colorbar\": {\"outlinewidth\": 0, \"ticks\": \"\"}, \"type\": \"mesh3d\"}], \"parcoords\": [{\"line\": {\"colorbar\": {\"outlinewidth\": 0, \"ticks\": \"\"}}, \"type\": \"parcoords\"}], \"pie\": [{\"automargin\": true, \"type\": \"pie\"}], \"scatter\": [{\"marker\": {\"colorbar\": {\"outlinewidth\": 0, \"ticks\": \"\"}}, \"type\": \"scatter\"}], \"scatter3d\": [{\"line\": {\"colorbar\": {\"outlinewidth\": 0, \"ticks\": \"\"}}, \"marker\": {\"colorbar\": {\"outlinewidth\": 0, \"ticks\": \"\"}}, \"type\": \"scatter3d\"}], \"scattercarpet\": [{\"marker\": {\"colorbar\": {\"outlinewidth\": 0, \"ticks\": \"\"}}, \"type\": \"scattercarpet\"}], \"scattergeo\": [{\"marker\": {\"colorbar\": {\"outlinewidth\": 0, \"ticks\": \"\"}}, \"type\": \"scattergeo\"}], \"scattergl\": [{\"marker\": {\"colorbar\": {\"outlinewidth\": 0, \"ticks\": \"\"}}, \"type\": \"scattergl\"}], \"scattermapbox\": [{\"marker\": {\"colorbar\": {\"outlinewidth\": 0, \"ticks\": \"\"}}, \"type\": \"scattermapbox\"}], \"scatterpolar\": [{\"marker\": {\"colorbar\": {\"outlinewidth\": 0, \"ticks\": \"\"}}, \"type\": \"scatterpolar\"}], \"scatterpolargl\": [{\"marker\": {\"colorbar\": {\"outlinewidth\": 0, \"ticks\": \"\"}}, \"type\": \"scatterpolargl\"}], \"scatterternary\": [{\"marker\": {\"colorbar\": {\"outlinewidth\": 0, \"ticks\": \"\"}}, \"type\": \"scatterternary\"}], \"surface\": [{\"colorbar\": {\"outlinewidth\": 0, \"ticks\": \"\"}, \"colorscale\": [[0.0, \"#0d0887\"], [0.1111111111111111, \"#46039f\"], [0.2222222222222222, \"#7201a8\"], [0.3333333333333333, \"#9c179e\"], [0.4444444444444444, \"#bd3786\"], [0.5555555555555556, \"#d8576b\"], [0.6666666666666666, \"#ed7953\"], [0.7777777777777778, \"#fb9f3a\"], [0.8888888888888888, \"#fdca26\"], [1.0, \"#f0f921\"]], \"type\": \"surface\"}], \"table\": [{\"cells\": {\"fill\": {\"color\": \"#EBF0F8\"}, \"line\": {\"color\": \"white\"}}, \"header\": {\"fill\": {\"color\": \"#C8D4E3\"}, \"line\": {\"color\": \"white\"}}, \"type\": \"table\"}]}, \"layout\": {\"annotationdefaults\": {\"arrowcolor\": \"#2a3f5f\", \"arrowhead\": 0, \"arrowwidth\": 1}, \"coloraxis\": {\"colorbar\": {\"outlinewidth\": 0, \"ticks\": \"\"}}, \"colorscale\": {\"diverging\": [[0, \"#8e0152\"], [0.1, \"#c51b7d\"], [0.2, \"#de77ae\"], [0.3, \"#f1b6da\"], [0.4, \"#fde0ef\"], [0.5, \"#f7f7f7\"], [0.6, \"#e6f5d0\"], [0.7, \"#b8e186\"], [0.8, \"#7fbc41\"], [0.9, \"#4d9221\"], [1, \"#276419\"]], \"sequential\": [[0.0, \"#0d0887\"], [0.1111111111111111, \"#46039f\"], [0.2222222222222222, \"#7201a8\"], [0.3333333333333333, \"#9c179e\"], [0.4444444444444444, \"#bd3786\"], [0.5555555555555556, \"#d8576b\"], [0.6666666666666666, \"#ed7953\"], [0.7777777777777778, \"#fb9f3a\"], [0.8888888888888888, \"#fdca26\"], [1.0, \"#f0f921\"]], \"sequentialminus\": [[0.0, \"#0d0887\"], [0.1111111111111111, \"#46039f\"], [0.2222222222222222, \"#7201a8\"], [0.3333333333333333, \"#9c179e\"], [0.4444444444444444, \"#bd3786\"], [0.5555555555555556, \"#d8576b\"], [0.6666666666666666, \"#ed7953\"], [0.7777777777777778, \"#fb9f3a\"], [0.8888888888888888, \"#fdca26\"], [1.0, \"#f0f921\"]]}, \"colorway\": [\"#636efa\", \"#EF553B\", \"#00cc96\", \"#ab63fa\", \"#FFA15A\", \"#19d3f3\", \"#FF6692\", \"#B6E880\", \"#FF97FF\", \"#FECB52\"], \"font\": {\"color\": \"#2a3f5f\"}, \"geo\": {\"bgcolor\": \"white\", \"lakecolor\": \"white\", \"landcolor\": \"#E5ECF6\", \"showlakes\": true, \"showland\": true, \"subunitcolor\": \"white\"}, \"hoverlabel\": {\"align\": \"left\"}, \"hovermode\": \"closest\", \"mapbox\": {\"style\": \"light\"}, \"paper_bgcolor\": \"white\", \"plot_bgcolor\": \"#E5ECF6\", \"polar\": {\"angularaxis\": {\"gridcolor\": \"white\", \"linecolor\": \"white\", \"ticks\": \"\"}, \"bgcolor\": \"#E5ECF6\", \"radialaxis\": {\"gridcolor\": \"white\", \"linecolor\": \"white\", \"ticks\": \"\"}}, \"scene\": {\"xaxis\": {\"backgroundcolor\": \"#E5ECF6\", \"gridcolor\": \"white\", \"gridwidth\": 2, \"linecolor\": \"white\", \"showbackground\": true, \"ticks\": \"\", \"zerolinecolor\": \"white\"}, \"yaxis\": {\"backgroundcolor\": \"#E5ECF6\", \"gridcolor\": \"white\", \"gridwidth\": 2, \"linecolor\": \"white\", \"showbackground\": true, \"ticks\": \"\", \"zerolinecolor\": \"white\"}, \"zaxis\": {\"backgroundcolor\": \"#E5ECF6\", \"gridcolor\": \"white\", \"gridwidth\": 2, \"linecolor\": \"white\", \"showbackground\": true, \"ticks\": \"\", \"zerolinecolor\": \"white\"}}, \"shapedefaults\": {\"line\": {\"color\": \"#2a3f5f\"}}, \"ternary\": {\"aaxis\": {\"gridcolor\": \"white\", \"linecolor\": \"white\", \"ticks\": \"\"}, \"baxis\": {\"gridcolor\": \"white\", \"linecolor\": \"white\", \"ticks\": \"\"}, \"bgcolor\": \"#E5ECF6\", \"caxis\": {\"gridcolor\": \"white\", \"linecolor\": \"white\", \"ticks\": \"\"}}, \"title\": {\"x\": 0.05}, \"xaxis\": {\"automargin\": true, \"gridcolor\": \"white\", \"linecolor\": \"white\", \"ticks\": \"\", \"title\": {\"standoff\": 15}, \"zerolinecolor\": \"white\", \"zerolinewidth\": 2}, \"yaxis\": {\"automargin\": true, \"gridcolor\": \"white\", \"linecolor\": \"white\", \"ticks\": \"\", \"title\": {\"standoff\": 15}, \"zerolinecolor\": \"white\", \"zerolinewidth\": 2}}}, \"title\": {\"text\": \"Hyperparameter Importances\"}, \"xaxis\": {\"title\": {\"text\": \"Importance for Objective Value\"}}, \"yaxis\": {\"title\": {\"text\": \"Hyperparameter\"}}},\n",
              "                        {\"responsive\": true}\n",
              "                    ).then(function(){\n",
              "                            \n",
              "var gd = document.getElementById('2311e86f-fab0-4286-8a54-8811c663adc4');\n",
              "var x = new MutationObserver(function (mutations, observer) {{\n",
              "        var display = window.getComputedStyle(gd).display;\n",
              "        if (!display || display === 'none') {{\n",
              "            console.log([gd, 'removed!']);\n",
              "            Plotly.purge(gd);\n",
              "            observer.disconnect();\n",
              "        }}\n",
              "}});\n",
              "\n",
              "// Listen for the removal of the full notebook cells\n",
              "var notebookContainer = gd.closest('#notebook-container');\n",
              "if (notebookContainer) {{\n",
              "    x.observe(notebookContainer, {childList: true});\n",
              "}}\n",
              "\n",
              "// Listen for the clearing of the current output cell\n",
              "var outputEl = gd.closest('.output');\n",
              "if (outputEl) {{\n",
              "    x.observe(outputEl, {childList: true});\n",
              "}}\n",
              "\n",
              "                        })\n",
              "                };\n",
              "                \n",
              "            </script>\n",
              "        </div>\n",
              "</body>\n",
              "</html>"
            ]
          },
          "metadata": {}
        }
      ]
    },
    {
      "cell_type": "code",
      "source": [
        "!pip install catboost"
      ],
      "metadata": {
        "colab": {
          "base_uri": "https://localhost:8080/"
        },
        "id": "vpl8_nCHtoVU",
        "outputId": "d0bc37b9-d5ea-4bc0-b821-a0dd6795a442"
      },
      "execution_count": 55,
      "outputs": [
        {
          "output_type": "stream",
          "name": "stdout",
          "text": [
            "Collecting catboost\n",
            "  Downloading catboost-1.0.3-cp37-none-manylinux1_x86_64.whl (76.3 MB)\n",
            "\u001b[K     |████████████████████████████████| 76.3 MB 1.2 MB/s \n",
            "\u001b[?25hRequirement already satisfied: graphviz in /usr/local/lib/python3.7/dist-packages (from catboost) (0.10.1)\n",
            "Requirement already satisfied: scipy in /usr/local/lib/python3.7/dist-packages (from catboost) (1.4.1)\n",
            "Requirement already satisfied: six in /usr/local/lib/python3.7/dist-packages (from catboost) (1.15.0)\n",
            "Requirement already satisfied: plotly in /usr/local/lib/python3.7/dist-packages (from catboost) (4.4.1)\n",
            "Requirement already satisfied: numpy>=1.16.0 in /usr/local/lib/python3.7/dist-packages (from catboost) (1.19.5)\n",
            "Requirement already satisfied: matplotlib in /usr/local/lib/python3.7/dist-packages (from catboost) (3.2.2)\n",
            "Requirement already satisfied: pandas>=0.24.0 in /usr/local/lib/python3.7/dist-packages (from catboost) (1.1.5)\n",
            "Requirement already satisfied: python-dateutil>=2.7.3 in /usr/local/lib/python3.7/dist-packages (from pandas>=0.24.0->catboost) (2.8.2)\n",
            "Requirement already satisfied: pytz>=2017.2 in /usr/local/lib/python3.7/dist-packages (from pandas>=0.24.0->catboost) (2018.9)\n",
            "Requirement already satisfied: kiwisolver>=1.0.1 in /usr/local/lib/python3.7/dist-packages (from matplotlib->catboost) (1.3.2)\n",
            "Requirement already satisfied: cycler>=0.10 in /usr/local/lib/python3.7/dist-packages (from matplotlib->catboost) (0.11.0)\n",
            "Requirement already satisfied: pyparsing!=2.0.4,!=2.1.2,!=2.1.6,>=2.0.1 in /usr/local/lib/python3.7/dist-packages (from matplotlib->catboost) (3.0.6)\n",
            "Requirement already satisfied: retrying>=1.3.3 in /usr/local/lib/python3.7/dist-packages (from plotly->catboost) (1.3.3)\n",
            "Installing collected packages: catboost\n",
            "Successfully installed catboost-1.0.3\n"
          ]
        }
      ]
    },
    {
      "cell_type": "code",
      "source": [
        "# Catboost \n",
        "from catboost import CatBoostClassifier\n",
        "def lgb_f1_score(y_true, y_hat):\n",
        "    y_true = data.get_label()\n",
        "    y_hat = np.round(y_hat) \n",
        "    return 'f1', f1_score(y_true, y_hat), True\n",
        "model = CatBoostClassifier(eval_metric= 'F1')\n",
        "kf = KFold(n_splits=5, random_state=42, shuffle=True)\n",
        "\n",
        "y_valid_pred = 0 * Y\n",
        "y_test_pred = 0\n",
        "\n",
        "for idx, (train_index, valid_index) in enumerate(kf.split(X,Y)):\n",
        "    y_train, y_valid = Y.iloc[train_index], Y.iloc[valid_index]\n",
        "    X_train, X_valid = X.iloc[train_index], X.iloc[valid_index]\n",
        "    # _train = Pool(X_train, label=y_train)\n",
        "    # _valid = Pool(X_valid, label=y_valid)\n",
        "    print( \"\\nFold \", idx)\n",
        "    fit_model = model.fit(X_train, y_train,\n",
        "                          eval_set=[(X_train, y_train) , (X_valid, y_valid)],\n",
        "                          use_best_model=True,\n",
        "                          verbose=200\n",
        "                         )\n",
        "    pred = fit_model.predict(X_valid)\n",
        "    print( \"  classification report = \", classification_report(y_valid, pred) )\n",
        "    y_valid_pred.iloc[valid_index] = pred\n",
        "    y_test_pred += fit_model.predict_proba(test_df)[:,1]\n",
        "y_test_pred /= 5\n",
        "\n",
        "# submission = pd.DataFrame({'S.No': test_df.index,'LABELS':y_test_pred.astype(int)})\n",
        "# #print(submission.LABELS)\n",
        "\n",
        "\n",
        "# filename = 'Submission_Catboost_Kfold.csv'\n",
        "\n",
        "# submission.to_csv(filename,index=False)\n",
        "\n",
        "# print('Saved file: ' + filename)\n",
        "\n"
      ],
      "metadata": {
        "colab": {
          "base_uri": "https://localhost:8080/"
        },
        "id": "EUySj8R6_9Bk",
        "outputId": "b64a6466-fbad-4b11-d602-eda279fad692"
      },
      "execution_count": 56,
      "outputs": [
        {
          "output_type": "stream",
          "name": "stdout",
          "text": [
            "\n",
            "Fold  0\n",
            "Learning rate set to 0.083118\n",
            "0:\tlearn: 0.8163428\ttest: 0.8163428\ttest1: 0.8183061\tbest: 0.8183061 (0)\ttotal: 159ms\tremaining: 2m 39s\n",
            "200:\tlearn: 0.8911163\ttest: 0.8911163\ttest1: 0.8787525\tbest: 0.8789861 (198)\ttotal: 20.8s\tremaining: 1m 22s\n",
            "400:\tlearn: 0.9148170\ttest: 0.9148170\ttest1: 0.8839070\tbest: 0.8841808 (374)\ttotal: 41.1s\tremaining: 1m 1s\n",
            "600:\tlearn: 0.9317262\ttest: 0.9317262\ttest1: 0.8858766\tbest: 0.8867490 (510)\ttotal: 1m 1s\tremaining: 40.8s\n",
            "800:\tlearn: 0.9458671\ttest: 0.9458671\ttest1: 0.8852595\tbest: 0.8868607 (674)\ttotal: 1m 21s\tremaining: 20.3s\n",
            "999:\tlearn: 0.9560222\ttest: 0.9560222\ttest1: 0.8869617\tbest: 0.8869617 (999)\ttotal: 1m 41s\tremaining: 0us\n",
            "\n",
            "bestTest = 0.886961687\n",
            "bestIteration = 999\n",
            "\n",
            "  classification report =                precision    recall  f1-score   support\n",
            "\n",
            "         0.0       0.78      0.74      0.76      4097\n",
            "         1.0       0.88      0.90      0.89      8303\n",
            "\n",
            "    accuracy                           0.85     12400\n",
            "   macro avg       0.83      0.82      0.82     12400\n",
            "weighted avg       0.84      0.85      0.85     12400\n",
            "\n",
            "\n",
            "Fold  1\n",
            "Learning rate set to 0.083118\n",
            "0:\tlearn: 0.8105240\ttest: 0.8105240\ttest1: 0.8107895\tbest: 0.8107895 (0)\ttotal: 111ms\tremaining: 1m 51s\n",
            "200:\tlearn: 0.8914965\ttest: 0.8914965\ttest1: 0.8758580\tbest: 0.8765082 (198)\ttotal: 20.6s\tremaining: 1m 21s\n",
            "400:\tlearn: 0.9143526\ttest: 0.9143526\ttest1: 0.8806334\tbest: 0.8813418 (376)\ttotal: 40.6s\tremaining: 1m\n",
            "600:\tlearn: 0.9315684\ttest: 0.9315684\ttest1: 0.8835375\tbest: 0.8837709 (558)\ttotal: 1m\tremaining: 40.2s\n",
            "800:\tlearn: 0.9456421\ttest: 0.9456421\ttest1: 0.8853580\tbest: 0.8854641 (795)\ttotal: 1m 20s\tremaining: 20s\n",
            "999:\tlearn: 0.9557081\ttest: 0.9557081\ttest1: 0.8866623\tbest: 0.8874347 (909)\ttotal: 1m 40s\tremaining: 0us\n",
            "\n",
            "bestTest = 0.8874347121\n",
            "bestIteration = 909\n",
            "\n",
            "Shrink model to first 910 iterations.\n",
            "  classification report =                precision    recall  f1-score   support\n",
            "\n",
            "         0.0       0.80      0.74      0.77      4242\n",
            "         1.0       0.87      0.91      0.89      8158\n",
            "\n",
            "    accuracy                           0.85     12400\n",
            "   macro avg       0.84      0.82      0.83     12400\n",
            "weighted avg       0.85      0.85      0.85     12400\n",
            "\n",
            "\n",
            "Fold  2\n",
            "Learning rate set to 0.083118\n",
            "0:\tlearn: 0.8151099\ttest: 0.8151099\ttest1: 0.8143817\tbest: 0.8143817 (0)\ttotal: 106ms\tremaining: 1m 46s\n",
            "200:\tlearn: 0.8905812\ttest: 0.8905812\ttest1: 0.8778514\tbest: 0.8783776 (191)\ttotal: 20.6s\tremaining: 1m 21s\n",
            "400:\tlearn: 0.9138777\ttest: 0.9138777\ttest1: 0.8841571\tbest: 0.8843409 (399)\ttotal: 40.7s\tremaining: 1m\n",
            "600:\tlearn: 0.9311410\ttest: 0.9311410\ttest1: 0.8865894\tbest: 0.8876132 (581)\ttotal: 1m\tremaining: 40.3s\n",
            "800:\tlearn: 0.9455563\ttest: 0.9455563\ttest1: 0.8877309\tbest: 0.8882969 (791)\ttotal: 1m 20s\tremaining: 20s\n",
            "999:\tlearn: 0.9560123\ttest: 0.9560123\ttest1: 0.8876631\tbest: 0.8882969 (791)\ttotal: 1m 40s\tremaining: 0us\n",
            "\n",
            "bestTest = 0.8882969277\n",
            "bestIteration = 791\n",
            "\n",
            "Shrink model to first 792 iterations.\n",
            "  classification report =                precision    recall  f1-score   support\n",
            "\n",
            "         0.0       0.79      0.73      0.76      4105\n",
            "         1.0       0.87      0.90      0.89      8295\n",
            "\n",
            "    accuracy                           0.85     12400\n",
            "   macro avg       0.83      0.82      0.82     12400\n",
            "weighted avg       0.85      0.85      0.85     12400\n",
            "\n",
            "\n",
            "Fold  3\n",
            "Learning rate set to 0.083118\n",
            "0:\tlearn: 0.8162481\ttest: 0.8162481\ttest1: 0.8202340\tbest: 0.8202340 (0)\ttotal: 109ms\tremaining: 1m 48s\n",
            "200:\tlearn: 0.8923372\ttest: 0.8923372\ttest1: 0.8784061\tbest: 0.8788713 (188)\ttotal: 20.8s\tremaining: 1m 22s\n",
            "400:\tlearn: 0.9144466\ttest: 0.9144466\ttest1: 0.8830509\tbest: 0.8830509 (400)\ttotal: 40.8s\tremaining: 1m\n",
            "600:\tlearn: 0.9314443\ttest: 0.9314443\ttest1: 0.8871130\tbest: 0.8871664 (596)\ttotal: 1m\tremaining: 40.3s\n",
            "800:\tlearn: 0.9452619\ttest: 0.9452619\ttest1: 0.8879924\tbest: 0.8885464 (777)\ttotal: 1m 20s\tremaining: 20s\n",
            "999:\tlearn: 0.9558720\ttest: 0.9558720\ttest1: 0.8886644\tbest: 0.8892057 (959)\ttotal: 1m 40s\tremaining: 0us\n",
            "\n",
            "bestTest = 0.8892057268\n",
            "bestIteration = 959\n",
            "\n",
            "Shrink model to first 960 iterations.\n",
            "  classification report =                precision    recall  f1-score   support\n",
            "\n",
            "         0.0       0.79      0.75      0.77      4090\n",
            "         1.0       0.88      0.90      0.89      8310\n",
            "\n",
            "    accuracy                           0.85     12400\n",
            "   macro avg       0.83      0.82      0.83     12400\n",
            "weighted avg       0.85      0.85      0.85     12400\n",
            "\n",
            "\n",
            "Fold  4\n",
            "Learning rate set to 0.083118\n",
            "0:\tlearn: 0.8155622\ttest: 0.8155622\ttest1: 0.8109997\tbest: 0.8109997 (0)\ttotal: 115ms\tremaining: 1m 54s\n",
            "200:\tlearn: 0.8915581\ttest: 0.8915581\ttest1: 0.8752228\tbest: 0.8752228 (200)\ttotal: 20.6s\tremaining: 1m 21s\n",
            "400:\tlearn: 0.9141096\ttest: 0.9141096\ttest1: 0.8823776\tbest: 0.8827512 (394)\ttotal: 40.4s\tremaining: 1m\n",
            "600:\tlearn: 0.9315508\ttest: 0.9315508\ttest1: 0.8868185\tbest: 0.8868718 (578)\ttotal: 1m\tremaining: 40s\n",
            "800:\tlearn: 0.9451513\ttest: 0.9451513\ttest1: 0.8875105\tbest: 0.8889023 (763)\ttotal: 1m 20s\tremaining: 20s\n",
            "999:\tlearn: 0.9551655\ttest: 0.9551655\ttest1: 0.8888487\tbest: 0.8894381 (985)\ttotal: 1m 40s\tremaining: 0us\n",
            "\n",
            "bestTest = 0.8894381481\n",
            "bestIteration = 985\n",
            "\n",
            "Shrink model to first 986 iterations.\n",
            "  classification report =                precision    recall  f1-score   support\n",
            "\n",
            "         0.0       0.80      0.75      0.78      4249\n",
            "         1.0       0.87      0.91      0.89      8151\n",
            "\n",
            "    accuracy                           0.85     12400\n",
            "   macro avg       0.84      0.83      0.83     12400\n",
            "weighted avg       0.85      0.85      0.85     12400\n",
            "\n"
          ]
        }
      ]
    },
    {
      "cell_type": "code",
      "source": [
        "#xgboost\n",
        "from xgboost import XGBClassifier\n",
        "params = {\n",
        "            'objective':'binary:logistic',\n",
        "            'max_depth': 50,\n",
        "            'alpha': 10,\n",
        "            'learning_rate': 0.1,\n",
        "            'n_estimators':1000,\n",
        "            'scale_pos_weight':1}    \n",
        "\n",
        "xgb_clf = XGBClassifier(**params)\n",
        "xgb_clf.fit(x_train, y_train)\n",
        "y_pred = xgb_clf.predict(x_test)\n",
        "# y_pred_test = xgb_clf.predict(test_df)\n",
        "x_pred = xgb_clf.predict(x_train)\n",
        "\n",
        "\n",
        "print(\"The accuracy of train set is : \", accuracy_score(y_train,x_pred))\n",
        "print(\"\\n\")\n",
        "\n",
        "print(\"The accuracy of test is : \", accuracy_score(y_test,y_pred))\n",
        "print(\"\\n\")\n",
        "print(\"The classification report is as follows:\\n\", classification_report(y_test,y_pred))"
      ],
      "metadata": {
        "id": "5vv5EZlVxF7b"
      },
      "execution_count": null,
      "outputs": []
    },
    {
      "cell_type": "code",
      "source": [
        "# y_pred_test = xgb_clf.predict(test_df)\n",
        "# submission = pd.DataFrame({'S.No': test_df.index,'LABELS':y_pred_test.astype(int)})\n",
        "# #print(submission.LABELS)\n",
        "\n",
        "\n",
        "# filename = 'Submission_Akelius_XGboost_tuned.csv'\n",
        "\n",
        "# submission.to_csv(filename,index=False)\n",
        "\n",
        "# print('Saved file: ' + filename)"
      ],
      "metadata": {
        "id": "uxomDW5KxGZA"
      },
      "execution_count": null,
      "outputs": []
    },
    {
      "cell_type": "code",
      "source": [
        "import lightgbm as lgb\n",
        "from sklearn.model_selection import cross_validate\n",
        "# !pip install optuna\n",
        "import optuna\n",
        "\n",
        "def objective(trial):\n",
        "\n",
        "  #dtrain = lgb.Dataset(x_train, label=y_train)\n",
        "\n",
        "  param = {\n",
        "      \"objective\": \"binary\",\n",
        "      \"metric\": \"binary_logloss\",\n",
        "      \"verbosity\": -1,\n",
        "      \"boosting_type\": \"gbdt\",\n",
        "      \"lambda_l1\": trial.suggest_float(\"lambda_l1\", 1e-8, 10.0, log=True),\n",
        "      \"lambda_l2\": trial.suggest_float(\"lambda_l2\", 1e-8, 10.0, log=True),\n",
        "      \"num_leaves\": trial.suggest_int(\"num_leaves\", 2, 256),\n",
        "      \"feature_fraction\": trial.suggest_float(\"feature_fraction\", 0.4, 1.0),\n",
        "      \"bagging_fraction\": trial.suggest_float(\"bagging_fraction\", 0.4, 1.0),\n",
        "      \"bagging_freq\": trial.suggest_int(\"bagging_freq\", 1, 7),\n",
        "      \"min_child_samples\": trial.suggest_int(\"min_child_samples\", 5, 100),\n",
        "  }\n",
        "    \n",
        "\n",
        "  classifier_obj = lgb.LGBMClassifier(**param)\n",
        "  result = cross_validate(classifier_obj, X, y=Y, cv=2, scoring='f1')\n",
        "\n",
        "  return result['test_score'].mean()\n",
        "\n",
        "\n",
        "study = optuna.create_study(direction='maximize')\n",
        "study.optimize(objective, n_trials = 100)\n",
        "\n",
        "trial = study.best_trial\n",
        "\n",
        "print('Precision: {}'.format(trial.value))\n",
        "print(\"Best hyperparameters: {}\".format(trial.params))"
      ],
      "metadata": {
        "id": "I4N7uKCOxG9N"
      },
      "execution_count": 25,
      "outputs": []
    },
    {
      "cell_type": "code",
      "source": [
        "print(\"Number of finished trials: {}\".format(len(study.trials)))\n",
        "\n",
        "print(\"Best trial:\")\n",
        "trial = study.best_trial\n",
        "\n",
        "print(\"  Value: {}\".format(trial.value))\n",
        "\n",
        "print(\"  Params: \")\n",
        "for key, value in trial.params.items():\n",
        "    print(\"    {}: {}\".format(key, value))"
      ],
      "metadata": {
        "colab": {
          "base_uri": "https://localhost:8080/"
        },
        "id": "uPK6aTOr2FDi",
        "outputId": "ed0aec48-46a8-4154-d836-84b756a300f7"
      },
      "execution_count": 16,
      "outputs": [
        {
          "output_type": "stream",
          "name": "stdout",
          "text": [
            "Number of finished trials: 35\n",
            "Best trial:\n",
            "  Value: 0.8846740004585562\n",
            "  Params: \n",
            "    lambda_l1: 2.9866150968921e-07\n",
            "    lambda_l2: 1.3247860325668782e-05\n",
            "    num_leaves: 214\n",
            "    feature_fraction: 0.5770140141092436\n",
            "    bagging_fraction: 0.9987747698547473\n",
            "    bagging_freq: 6\n",
            "    min_child_samples: 68\n"
          ]
        }
      ]
    },
    {
      "cell_type": "code",
      "source": [
        "study.best_params"
      ],
      "metadata": {
        "colab": {
          "base_uri": "https://localhost:8080/"
        },
        "id": "yd98FCP-6AE3",
        "outputId": "9611944b-191d-4744-9dd3-7d8999c6496a"
      },
      "execution_count": 17,
      "outputs": [
        {
          "output_type": "execute_result",
          "data": {
            "text/plain": [
              "{'bagging_fraction': 0.9987747698547473,\n",
              " 'bagging_freq': 6,\n",
              " 'feature_fraction': 0.5770140141092436,\n",
              " 'lambda_l1': 2.9866150968921e-07,\n",
              " 'lambda_l2': 1.3247860325668782e-05,\n",
              " 'min_child_samples': 68,\n",
              " 'num_leaves': 214}"
            ]
          },
          "metadata": {},
          "execution_count": 17
        }
      ]
    },
    {
      "cell_type": "code",
      "source": [
        "params = {'bagging_fraction': 0.9987747698547473,\n",
        " 'bagging_freq': 6,\n",
        " 'feature_fraction': 0.5770140141092436,\n",
        " 'lambda_l1': 2.9866150968921e-07,\n",
        " 'lambda_l2': 1.3247860325668782e-05,\n",
        " 'min_child_samples': 68,\n",
        " 'num_leaves': 214}\n",
        "\n",
        "clf = lgb.LGBMClassifier(**params )\n",
        "clf.fit(x_train, y_train)\n",
        "\n",
        "y_pred_lgbm = clf.predict(x_test)\n",
        "# y_pred_test = xgb_clf.predict(test_df)\n",
        "x_pred = clf.predict(x_train)\n",
        "\n",
        "print(\"The accuracy of train set is : \", accuracy_score(y_train,x_pred))\n",
        "print(\"\\n\")\n",
        "print(\"The accuracy of test is : \", accuracy_score(y_test,y_pred_lgbm))\n",
        "print(\"\\n\")\n",
        "print(\"The classification report is as follows:\\n\", classification_report(y_test,y_pred_lgbm))\n",
        "print(\"The F1 Score is as follows:\\n\", f1_score(y_test, y_pred_lgbm, labels=None, pos_label=1, average='weighted'))"
      ],
      "metadata": {
        "colab": {
          "base_uri": "https://localhost:8080/"
        },
        "id": "Dt_RPMXq2FGX",
        "outputId": "a2320f0a-e2c4-4318-85fc-f035a132afb1"
      },
      "execution_count": 19,
      "outputs": [
        {
          "output_type": "stream",
          "name": "stdout",
          "text": [
            "The accuracy of train set is :  0.9901299951853635\n",
            "\n",
            "\n",
            "The accuracy of test is :  0.8480938416422288\n",
            "\n",
            "\n",
            "The classification report is as follows:\n",
            "               precision    recall  f1-score   support\n",
            "\n",
            "         0.0       0.80      0.73      0.76      6855\n",
            "         1.0       0.87      0.91      0.89     13605\n",
            "\n",
            "    accuracy                           0.85     20460\n",
            "   macro avg       0.83      0.82      0.83     20460\n",
            "weighted avg       0.85      0.85      0.85     20460\n",
            "\n",
            "The F1 Score is as follows:\n",
            " 0.8464509564221742\n"
          ]
        }
      ]
    },
    {
      "cell_type": "code",
      "source": [
        "# #For saving the file\n",
        "# submission = pd.DataFrame({'S.No': test_df.index,'LABELS':y_pred_test.astype(int)})\n",
        "# #print(submission.LABELS)\n",
        "\n",
        "\n",
        "# filename = 'Submission_LGBM_Optuna.csv'\n",
        "\n",
        "# submission.to_csv(filename,index=False)\n",
        "\n",
        "# print('Saved file: ' + filename)"
      ],
      "metadata": {
        "id": "sibPUo16uM5z"
      },
      "execution_count": 20,
      "outputs": []
    },
    {
      "cell_type": "code",
      "metadata": {
        "colab": {
          "base_uri": "https://localhost:8080/"
        },
        "id": "kQ2jLf-u8UWQ",
        "outputId": "ab16ed43-634f-4b44-b833-83a1e5687162"
      },
      "source": [
        "#LGBM without Hyperparameter tuning\n",
        "\n",
        "import lightgbm as lgb\n",
        "lgbm_tuned = lgb.LGBMClassifier(\n",
        "                            learning_rate=0.01, \n",
        "                            max_depth=25, \n",
        "                            n_estimators=1000, \n",
        "                            colsample_bytree=0.6) # LightGBM Classifier with optimum paramteres\n",
        "lgbm_tuned.fit(x_train, y_train) #Fit the model with the optimum parameters"
      ],
      "execution_count": 21,
      "outputs": [
        {
          "output_type": "execute_result",
          "data": {
            "text/plain": [
              "LGBMClassifier(colsample_bytree=0.6, learning_rate=0.01, max_depth=25,\n",
              "               n_estimators=1000)"
            ]
          },
          "metadata": {},
          "execution_count": 21
        }
      ]
    },
    {
      "cell_type": "code",
      "metadata": {
        "colab": {
          "base_uri": "https://localhost:8080/"
        },
        "id": "VmY2-YvV8UZI",
        "outputId": "2f25796c-3b17-4cfd-e90f-b6dc1f120862"
      },
      "source": [
        "y_test_pred = lgbm_tuned.predict(x_test) #Predicting X_test to find the solutiın\n",
        "# y_test_pred1= lgbm_tuned.predict(test_df)\n",
        "x_train_pred = lgbm_tuned.predict(x_train)\n",
        "score = round(accuracy_score(y_test, y_test_pred), 3) # Find the accuracy of y_test and predicitons, and round the result\n",
        "print(score)\n",
        "\n",
        "print(\"The accuracy of train set is : \", accuracy_score(y_train,x_train_pred))\n",
        "print(\"\\n\")\n",
        "print(\"The accuracy of test is : \", accuracy_score(y_test,y_test_pred))\n",
        "print(\"\\n\")\n",
        "print(\"The classification report is as follows:\\n\", classification_report(y_test,y_test_pred))"
      ],
      "execution_count": 22,
      "outputs": [
        {
          "output_type": "stream",
          "name": "stdout",
          "text": [
            "0.838\n",
            "The accuracy of train set is :  0.8784545016851227\n",
            "\n",
            "\n",
            "The accuracy of test is :  0.8383675464320626\n",
            "\n",
            "\n",
            "The classification report is as follows:\n",
            "               precision    recall  f1-score   support\n",
            "\n",
            "         0.0       0.79      0.70      0.74      6855\n",
            "         1.0       0.86      0.91      0.88     13605\n",
            "\n",
            "    accuracy                           0.84     20460\n",
            "   macro avg       0.82      0.81      0.81     20460\n",
            "weighted avg       0.84      0.84      0.84     20460\n",
            "\n"
          ]
        }
      ]
    },
    {
      "cell_type": "code",
      "metadata": {
        "colab": {
          "base_uri": "https://localhost:8080/"
        },
        "id": "-3IrqpPx5MX6",
        "outputId": "6cbbd664-794d-42f1-ccd8-d9cb8e299f6d"
      },
      "source": [
        "kaggle_data = test_df.to_numpy()\n",
        "pred = lgbm_tuned.predict(kaggle_data)\n",
        "print(pred[pred==0].size / pred.size, pred[pred==1].size / pred.size)\n",
        "indices = np.array(list(i for i in range(pred.size)))\n",
        "result = np.empty((pred.size, 2))\n",
        "result[:, 0] = indices\n",
        "result[:, 1] = pred"
      ],
      "execution_count": 26,
      "outputs": [
        {
          "output_type": "stream",
          "name": "stdout",
          "text": [
            "0.4091666666666667 0.5908333333333333\n"
          ]
        }
      ]
    },
    {
      "cell_type": "code",
      "metadata": {
        "colab": {
          "base_uri": "https://localhost:8080/"
        },
        "id": "ONRS3DT851-g",
        "outputId": "50d7b3d8-a6e9-49b9-d46c-5e85190eef7c"
      },
      "source": [
        "# np.savetxt('result_lgbm.csv', result, fmt=\"%d\", delimiter=\",\")\n",
        "# !curl --upload-file ./result_lgbm.csv https://transfer.sh/result_lgbm.csv"
      ],
      "execution_count": null,
      "outputs": [
        {
          "output_type": "stream",
          "name": "stdout",
          "text": [
            "https://transfer.sh/mXT8Dh/result_lgbm.csv"
          ]
        }
      ]
    },
    {
      "cell_type": "code",
      "metadata": {
        "colab": {
          "base_uri": "https://localhost:8080/",
          "height": 297
        },
        "id": "sFS1dfAn953n",
        "outputId": "677366a1-725e-47fe-adff-514d4790d12e"
      },
      "source": [
        "from sklearn.metrics import roc_curve\n",
        "\n",
        "fpr, tpr, thresholds = roc_curve(y_test, lgbm_tuned.predict_proba(x_test)[:, 1])\n",
        "# plot the roc curve for the model\n",
        "plt.plot([0,1], [0,1], linestyle='--', label='No Skill')\n",
        "plt.plot(fpr, tpr, marker='.', label='Model')\n",
        "# axis labels\n",
        "plt.xlabel('False Positive Rate')\n",
        "plt.ylabel('True Positive Rate')\n",
        "plt.legend()\n",
        "# show the plot\n",
        "plt.show()\n",
        "\n",
        "gmeans = np.sqrt(tpr * (1-fpr))\n",
        "ix = np.argmax(gmeans)\n",
        "print('Best Threshold=%f, G-Mean=%.3f' % (thresholds[ix], gmeans[ix]))"
      ],
      "execution_count": 27,
      "outputs": [
        {
          "output_type": "display_data",
          "data": {
            "image/png": "[encoded data removed]",
            "text/plain": [
              "<Figure size 432x288 with 1 Axes>"
            ]
          },
          "metadata": {
            "needs_background": "light"
          }
        },
        {
          "output_type": "stream",
          "name": "stdout",
          "text": [
            "Best Threshold=0.667381, G-Mean=0.836\n"
          ]
        }
      ]
    }
  ]
}